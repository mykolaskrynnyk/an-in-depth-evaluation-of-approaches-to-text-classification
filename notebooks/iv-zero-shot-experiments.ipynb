{
 "cells": [
  {
   "attachments": {},
   "cell_type": "markdown",
   "id": "fa81e98c",
   "metadata": {},
   "source": [
    "# An In-depth Evaluation of Approaches to Text Classification (IDEATC)\n",
    "\n",
    "## IV. Zero-shot Experiments\n",
    "\n",
    "_This notebook is used for experimenting with DeBERTa for zero-shot classification._"
   ]
  },
  {
   "attachments": {},
   "cell_type": "markdown",
   "id": "d85b7b45",
   "metadata": {},
   "source": [
    "### Libraries"
   ]
  },
  {
   "cell_type": "code",
   "execution_count": 1,
   "metadata": {
    "ExecuteTime": {
     "end_time": "2023-05-01T23:53:52.783459Z",
     "start_time": "2023-05-01T23:53:50.979791Z"
    }
   },
   "outputs": [],
   "source": [
    "# standard library\n",
    "import os\n",
    "from pathlib import Path\n",
    "\n",
    "# deep learning\n",
    "import datasets\n",
    "import pandas as pd\n",
    "\n",
    "# local packages\n",
    "import src\n",
    "\n",
    "# other settings\n",
    "LOAD_PATH_DATASET = Path(os.pardir, 'data', 'processed')\n",
    "SAVE_PATH_RESULTS = Path(os.pardir, 'data', 'results')\n",
    "CHECKPOINTS = [\n",
    "    'cross-encoder/nli-deberta-v3-xsmall',\n",
    "    'cross-encoder/nli-deberta-v3-small',\n",
    "    'cross-encoder/nli-deberta-v3-base',\n",
    "]"
   ]
  },
  {
   "attachments": {},
   "cell_type": "markdown",
   "id": "2cbe1252",
   "metadata": {},
   "source": [
    "### I. Zero-shot Baselines"
   ]
  },
  {
   "cell_type": "code",
   "execution_count": 3,
   "outputs": [
    {
     "name": "stdout",
     "output_type": "stream",
     "text": [
      "20_newsgroups_processed\n"
     ]
    },
    {
     "name": "stderr",
     "output_type": "stream",
     "text": [
      "100%|██████████| 7532/7532 [54:52<00:00,  2.29it/s]  \n"
     ]
    },
    {
     "name": "stdout",
     "output_type": "stream",
     "text": [
      "ag_news_processed\n"
     ]
    },
    {
     "name": "stderr",
     "output_type": "stream",
     "text": [
      "100%|██████████| 7600/7600 [10:14<00:00, 12.36it/s] \n"
     ]
    },
    {
     "name": "stdout",
     "output_type": "stream",
     "text": [
      "web_of_science_processed\n",
      "yelp_polarity_processed\n"
     ]
    },
    {
     "name": "stderr",
     "output_type": "stream",
     "text": [
      "100%|██████████| 1000/1000 [13:52<00:00,  1.20it/s]\n"
     ]
    },
    {
     "name": "stdout",
     "output_type": "stream",
     "text": [
      "dynabench_dynasent_processed\n"
     ]
    },
    {
     "name": "stderr",
     "output_type": "stream",
     "text": [
      "100%|██████████| 720/720 [02:09<00:00,  5.57it/s]\n"
     ]
    },
    {
     "name": "stdout",
     "output_type": "stream",
     "text": [
      "imdb_processed\n"
     ]
    },
    {
     "name": "stderr",
     "output_type": "stream",
     "text": [
      "100%|██████████| 1000/1000 [05:45<00:00,  2.89it/s]\n"
     ]
    },
    {
     "name": "stdout",
     "output_type": "stream",
     "text": [
      "setfit_sst5_processed\n"
     ]
    },
    {
     "name": "stderr",
     "output_type": "stream",
     "text": [
      "100%|██████████| 2210/2210 [04:44<00:00,  7.77it/s]\n"
     ]
    },
    {
     "name": "stdout",
     "output_type": "stream",
     "text": [
      "dbpedia_14_processed\n"
     ]
    },
    {
     "name": "stderr",
     "output_type": "stream",
     "text": [
      "100%|██████████| 7000/7000 [14:33<00:00,  8.02it/s] \n"
     ]
    },
    {
     "name": "stdout",
     "output_type": "stream",
     "text": [
      "rotten_tomatoes_processed\n"
     ]
    },
    {
     "name": "stderr",
     "output_type": "stream",
     "text": [
      "100%|██████████| 1066/1066 [00:48<00:00, 21.93it/s]\n"
     ]
    },
    {
     "name": "stdout",
     "output_type": "stream",
     "text": [
      "yelp_review_full_processed\n"
     ]
    },
    {
     "name": "stderr",
     "output_type": "stream",
     "text": [
      "100%|██████████| 2500/2500 [28:46<00:00,  1.45it/s] \n"
     ]
    },
    {
     "name": "stdout",
     "output_type": "stream",
     "text": [
      "20_newsgroups_processed\n"
     ]
    },
    {
     "name": "stderr",
     "output_type": "stream",
     "text": [
      " 84%|████████▍ | 6353/7532 [1:30:19<07:49,  2.51it/s]  "
     ]
    }
   ],
   "source": [
    "for checkpoint in CHECKPOINTS:\n",
    "    for path in LOAD_PATH_DATASET.glob('*processed*'):\n",
    "        print(path.name)\n",
    "        dataset = datasets.load_from_disk(path)\n",
    "        labels = dataset['test'].features['label'].names\n",
    "        model_size = checkpoint.split('-')[-1]  # i.e., 'xsmall', 'small' or 'base'\n",
    "        src.experiments.zeroshot.run_experiment(\n",
    "            dataset_dict=dataset,\n",
    "            candidate_labels=labels,\n",
    "            checkpoint=checkpoint,\n",
    "            device='mps',\n",
    "            # hypothesis_template='This example is {}',\n",
    "            progress_bar=True,\n",
    "            experiment_id=f'deberta_v3_{model_size}_zeroshot',\n",
    "            save_path=SAVE_PATH_RESULTS.joinpath(path.name),\n",
    "        )\n",
    "print('Done!')"
   ],
   "metadata": {
    "collapsed": false,
    "ExecuteTime": {
     "start_time": "2023-04-29T14:54:53.852317Z",
     "end_time": "2023-04-29T15:40:57.526085Z"
    }
   }
  },
  {
   "cell_type": "markdown",
   "source": [
    "## II. Prompting Experiments"
   ],
   "metadata": {
    "collapsed": false
   }
  },
  {
   "cell_type": "code",
   "execution_count": 14,
   "outputs": [
    {
     "name": "stdout",
     "output_type": "stream",
     "text": [
      "Labels: ['Negative', 'Neutral', 'Positive']\n"
     ]
    },
    {
     "data": {
      "text/plain": "DatasetDict({\n    train: Dataset({\n        features: ['text', 'label', 'text_clean'],\n        num_rows: 13065\n    })\n    validation: Dataset({\n        features: ['text', 'label', 'text_clean'],\n        num_rows: 720\n    })\n    test: Dataset({\n        features: ['text', 'label', 'text_clean'],\n        num_rows: 720\n    })\n})"
     },
     "execution_count": 14,
     "metadata": {},
     "output_type": "execute_result"
    }
   ],
   "source": [
    "SAVE_PATH_RESULTS = Path(os.pardir, 'data', 'prompting')\n",
    "dataset_name = 'dynabench_dynasent_processed'\n",
    "dataset = datasets.load_from_disk(LOAD_PATH_DATASET.joinpath(dataset_name))\n",
    "labels = dataset['test'].features['label'].names\n",
    "print('Labels:', labels)\n",
    "dataset"
   ],
   "metadata": {
    "collapsed": false,
    "ExecuteTime": {
     "end_time": "2023-05-01T23:10:55.645575Z",
     "start_time": "2023-05-01T23:10:55.629014Z"
    }
   }
  },
  {
   "cell_type": "code",
   "execution_count": null,
   "outputs": [
    {
     "name": "stderr",
     "output_type": "stream",
     "text": [
      "100%|██████████| 720/720 [00:27<00:00, 25.82it/s]\n",
      "100%|██████████| 720/720 [00:27<00:00, 26.32it/s]\n",
      "100%|██████████| 720/720 [00:26<00:00, 27.01it/s]\n",
      "100%|██████████| 720/720 [00:26<00:00, 26.95it/s]\n",
      "100%|██████████| 720/720 [00:27<00:00, 26.25it/s]\n",
      "100%|██████████| 720/720 [00:28<00:00, 25.44it/s]\n",
      "100%|██████████| 720/720 [00:16<00:00, 43.36it/s]\n",
      "100%|██████████| 720/720 [00:16<00:00, 43.83it/s]\n",
      "100%|██████████| 720/720 [00:16<00:00, 43.71it/s]\n",
      "100%|██████████| 720/720 [00:16<00:00, 43.81it/s]\n",
      "100%|██████████| 720/720 [00:16<00:00, 44.37it/s]\n",
      "100%|██████████| 720/720 [00:16<00:00, 44.71it/s]\n",
      "100%|██████████| 720/720 [00:28<00:00, 25.15it/s]\n",
      "100%|██████████| 720/720 [00:28<00:00, 25.50it/s]\n",
      "100%|██████████| 720/720 [00:28<00:00, 25.19it/s]\n",
      "100%|██████████| 720/720 [00:28<00:00, 25.23it/s]\n",
      " 48%|████▊     | 348/720 [00:14<00:15, 23.74it/s]"
     ]
    }
   ],
   "source": [
    "prompts = [\n",
    "    'This example is {}.',\n",
    "    '{}',\n",
    "    'This example expresses a {} sentiment.',\n",
    "    'This example expresses a {} feeling.',\n",
    "    'This example expresses a {} attitude.',\n",
    "    'This example expresses a {} opinion.',\n",
    "]\n",
    "\n",
    "for checkpoint in CHECKPOINTS:\n",
    "    model_size = checkpoint.split('-')[-1]\n",
    "    for idx, prompt in enumerate(prompts):\n",
    "        src.experiments.zeroshot.run_experiment(\n",
    "            dataset_dict=dataset,\n",
    "            candidate_labels=labels,\n",
    "            checkpoint=checkpoint,\n",
    "            device='mps',\n",
    "            hypothesis_template=prompt,\n",
    "            progress_bar=True,\n",
    "            experiment_id=f'deberta_v3_{model_size}_zeroshot_prompt_{idx}',\n",
    "            save_path=SAVE_PATH_RESULTS.joinpath(dataset_name),\n",
    "        )\n",
    "print('Done!')"
   ],
   "metadata": {
    "collapsed": false,
    "is_executing": true,
    "ExecuteTime": {
     "start_time": "2023-05-01T23:10:55.773438Z"
    }
   }
  },
  {
   "cell_type": "code",
   "execution_count": 2,
   "outputs": [
    {
     "name": "stdout",
     "output_type": "stream",
     "text": [
      "Labels: ['World', 'Sports', 'Business', 'Sci/Tech']\n"
     ]
    },
    {
     "data": {
      "text/plain": "DatasetDict({\n    train: Dataset({\n        features: ['text', 'label', 'text_clean'],\n        num_rows: 120000\n    })\n    test: Dataset({\n        features: ['text', 'label', 'text_clean'],\n        num_rows: 7600\n    })\n})"
     },
     "execution_count": 2,
     "metadata": {},
     "output_type": "execute_result"
    }
   ],
   "source": [
    "SAVE_PATH_RESULTS = Path(os.pardir, 'data', 'prompting')\n",
    "dataset_name = 'ag_news_processed'\n",
    "dataset = datasets.load_from_disk(LOAD_PATH_DATASET.joinpath(dataset_name))\n",
    "labels = dataset['test'].features['label'].names\n",
    "print('Labels:', labels)\n",
    "dataset"
   ],
   "metadata": {
    "collapsed": false,
    "ExecuteTime": {
     "end_time": "2023-05-01T23:54:21.195711Z",
     "start_time": "2023-05-01T23:54:21.170148Z"
    }
   }
  },
  {
   "cell_type": "code",
   "execution_count": 19,
   "outputs": [
    {
     "name": "stderr",
     "output_type": "stream",
     "text": [
      "100%|██████████| 7600/7600 [05:49<00:00, 21.74it/s]\n",
      "100%|██████████| 7600/7600 [05:00<00:00, 25.33it/s]\n",
      "100%|██████████| 7600/7600 [04:52<00:00, 26.02it/s]\n",
      "100%|██████████| 7600/7600 [04:51<00:00, 26.11it/s]\n",
      "100%|██████████| 7600/7600 [04:49<00:00, 26.25it/s]\n",
      "100%|██████████| 7600/7600 [04:22<00:00, 28.97it/s]\n",
      "100%|██████████| 7600/7600 [03:09<00:00, 40.17it/s]\n",
      "100%|██████████| 7600/7600 [03:00<00:00, 42.16it/s]\n",
      "100%|██████████| 7600/7600 [02:55<00:00, 43.20it/s]\n",
      "100%|██████████| 7600/7600 [02:52<00:00, 44.05it/s]\n",
      "100%|██████████| 7600/7600 [04:46<00:00, 26.56it/s]\n",
      "100%|██████████| 7600/7600 [04:42<00:00, 26.87it/s]\n",
      "100%|██████████| 7600/7600 [04:44<00:00, 26.75it/s]\n",
      "100%|██████████| 7600/7600 [04:41<00:00, 27.01it/s]\n",
      "100%|██████████| 7600/7600 [04:40<00:00, 27.09it/s]\n"
     ]
    },
    {
     "name": "stdout",
     "output_type": "stream",
     "text": [
      "Done!\n"
     ]
    }
   ],
   "source": [
    "prompts2labels = [\n",
    "    ('This example is {}.', labels),\n",
    "    ('{}', labels),\n",
    "    ('This example is about {}.', labels),\n",
    "    ('This main topic of this text is {}.', labels),\n",
    "    ('This example is {}.', ['World News', 'Sports', 'Business, Company, Entrepreneurship', 'Technology']),\n",
    "]\n",
    "\n",
    "for checkpoint in CHECKPOINTS:\n",
    "    model_size = checkpoint.split('-')[-1]\n",
    "    for idx, (prompt, labels) in enumerate(prompts2labels):\n",
    "        src.experiments.zeroshot.run_experiment(\n",
    "            dataset_dict=dataset,\n",
    "            candidate_labels=labels,\n",
    "            checkpoint=checkpoint,\n",
    "            device='mps',\n",
    "            hypothesis_template=prompt,\n",
    "            progress_bar=True,\n",
    "            experiment_id=f'deberta_v3_{model_size}_zeroshot_prompt_{idx}',\n",
    "            save_path=SAVE_PATH_RESULTS.joinpath(dataset_name),\n",
    "        )\n",
    "print('Done!')"
   ],
   "metadata": {
    "collapsed": false,
    "ExecuteTime": {
     "end_time": "2023-05-02T01:06:43.237999Z",
     "start_time": "2023-05-02T00:00:47.814904Z"
    }
   }
  },
  {
   "cell_type": "markdown",
   "source": [
    "## III. Sanity Check"
   ],
   "metadata": {
    "collapsed": false
   }
  },
  {
   "cell_type": "code",
   "execution_count": 5,
   "outputs": [
    {
     "data": {
      "text/plain": "                            rotten_tomatoes   imdb  yelp_polarity  \\\ndummy_classifier                      47.84  48.90          46.70   \ncomplement_naive_bayes                76.54  85.60          86.40   \nsgd_classifier                        75.64  88.40          91.80   \nfasttext                              78.26  87.90          94.90   \ncnn                                   74.41  85.19          94.40   \ndeberta_v3_small_finetuned            88.74  96.50          97.40   \ndeberta_v3_small_zeroshot             75.89  79.08          86.24   \ndeberta_v3_xsmall_zeroshot            76.17  82.53          88.89   \ndeberta_v3_base_zeroshot              75.14  85.09          89.29   \n\n                            yelp_review_full  setfit_sst5  dynabench_dynasent  \\\ndummy_classifier                       20.40        20.10               32.69   \ncomplement_naive_bayes                 49.34        36.01               52.00   \nsgd_classifier                         56.84        36.27               51.67   \nfasttext                               62.58        41.31               54.49   \ncnn                                    60.01        33.61               53.23   \ndeberta_v3_small_finetuned             66.84        55.11               67.42   \ndeberta_v3_small_zeroshot              34.98        34.20               42.48   \ndeberta_v3_xsmall_zeroshot             35.18        35.73               43.99   \ndeberta_v3_base_zeroshot               31.15        30.89               42.62   \n\n                            ag_news  20_newsgroups  dbpedia_14  web_of_science  \ndummy_classifier              25.32           5.34        7.22            0.72  \ncomplement_naive_bayes        86.74          75.10       94.30           68.60  \nsgd_classifier                87.96          75.76       97.31           75.98  \nfasttext                      92.03          78.47       98.59           64.49  \ncnn                           89.59          68.56       97.61           69.56  \ndeberta_v3_small_finetuned    93.78          82.90       99.02           79.76  \ndeberta_v3_small_zeroshot     54.26          42.78       59.20           57.30  \ndeberta_v3_xsmall_zeroshot    64.29          45.09       64.50           62.25  \ndeberta_v3_base_zeroshot      61.58          47.24       49.25           46.99  ",
      "text/html": "<div>\n<style scoped>\n    .dataframe tbody tr th:only-of-type {\n        vertical-align: middle;\n    }\n\n    .dataframe tbody tr th {\n        vertical-align: top;\n    }\n\n    .dataframe thead th {\n        text-align: right;\n    }\n</style>\n<table border=\"1\" class=\"dataframe\">\n  <thead>\n    <tr style=\"text-align: right;\">\n      <th></th>\n      <th>rotten_tomatoes</th>\n      <th>imdb</th>\n      <th>yelp_polarity</th>\n      <th>yelp_review_full</th>\n      <th>setfit_sst5</th>\n      <th>dynabench_dynasent</th>\n      <th>ag_news</th>\n      <th>20_newsgroups</th>\n      <th>dbpedia_14</th>\n      <th>web_of_science</th>\n    </tr>\n  </thead>\n  <tbody>\n    <tr>\n      <th>dummy_classifier</th>\n      <td>47.84</td>\n      <td>48.90</td>\n      <td>46.70</td>\n      <td>20.40</td>\n      <td>20.10</td>\n      <td>32.69</td>\n      <td>25.32</td>\n      <td>5.34</td>\n      <td>7.22</td>\n      <td>0.72</td>\n    </tr>\n    <tr>\n      <th>complement_naive_bayes</th>\n      <td>76.54</td>\n      <td>85.60</td>\n      <td>86.40</td>\n      <td>49.34</td>\n      <td>36.01</td>\n      <td>52.00</td>\n      <td>86.74</td>\n      <td>75.10</td>\n      <td>94.30</td>\n      <td>68.60</td>\n    </tr>\n    <tr>\n      <th>sgd_classifier</th>\n      <td>75.64</td>\n      <td>88.40</td>\n      <td>91.80</td>\n      <td>56.84</td>\n      <td>36.27</td>\n      <td>51.67</td>\n      <td>87.96</td>\n      <td>75.76</td>\n      <td>97.31</td>\n      <td>75.98</td>\n    </tr>\n    <tr>\n      <th>fasttext</th>\n      <td>78.26</td>\n      <td>87.90</td>\n      <td>94.90</td>\n      <td>62.58</td>\n      <td>41.31</td>\n      <td>54.49</td>\n      <td>92.03</td>\n      <td>78.47</td>\n      <td>98.59</td>\n      <td>64.49</td>\n    </tr>\n    <tr>\n      <th>cnn</th>\n      <td>74.41</td>\n      <td>85.19</td>\n      <td>94.40</td>\n      <td>60.01</td>\n      <td>33.61</td>\n      <td>53.23</td>\n      <td>89.59</td>\n      <td>68.56</td>\n      <td>97.61</td>\n      <td>69.56</td>\n    </tr>\n    <tr>\n      <th>deberta_v3_small_finetuned</th>\n      <td>88.74</td>\n      <td>96.50</td>\n      <td>97.40</td>\n      <td>66.84</td>\n      <td>55.11</td>\n      <td>67.42</td>\n      <td>93.78</td>\n      <td>82.90</td>\n      <td>99.02</td>\n      <td>79.76</td>\n    </tr>\n    <tr>\n      <th>deberta_v3_small_zeroshot</th>\n      <td>75.89</td>\n      <td>79.08</td>\n      <td>86.24</td>\n      <td>34.98</td>\n      <td>34.20</td>\n      <td>42.48</td>\n      <td>54.26</td>\n      <td>42.78</td>\n      <td>59.20</td>\n      <td>57.30</td>\n    </tr>\n    <tr>\n      <th>deberta_v3_xsmall_zeroshot</th>\n      <td>76.17</td>\n      <td>82.53</td>\n      <td>88.89</td>\n      <td>35.18</td>\n      <td>35.73</td>\n      <td>43.99</td>\n      <td>64.29</td>\n      <td>45.09</td>\n      <td>64.50</td>\n      <td>62.25</td>\n    </tr>\n    <tr>\n      <th>deberta_v3_base_zeroshot</th>\n      <td>75.14</td>\n      <td>85.09</td>\n      <td>89.29</td>\n      <td>31.15</td>\n      <td>30.89</td>\n      <td>42.62</td>\n      <td>61.58</td>\n      <td>47.24</td>\n      <td>49.25</td>\n      <td>46.99</td>\n    </tr>\n  </tbody>\n</table>\n</div>"
     },
     "execution_count": 5,
     "metadata": {},
     "output_type": "execute_result"
    }
   ],
   "source": [
    "src.experiments.utils.show_best_results(SAVE_PATH_RESULTS)"
   ],
   "metadata": {
    "collapsed": false,
    "ExecuteTime": {
     "start_time": "2023-05-01T14:11:11.903097Z",
     "end_time": "2023-05-01T14:11:12.090608Z"
    }
   }
  },
  {
   "cell_type": "code",
   "execution_count": null,
   "outputs": [],
   "source": [],
   "metadata": {
    "collapsed": false
   }
  }
 ],
 "metadata": {
  "kernelspec": {
   "display_name": "co-working",
   "language": "python",
   "name": "python3"
  },
  "language_info": {
   "codemirror_mode": {
    "name": "ipython",
    "version": 3
   },
   "file_extension": ".py",
   "mimetype": "text/x-python",
   "name": "python",
   "nbconvert_exporter": "python",
   "pygments_lexer": "ipython3",
   "version": "3.9.16"
  }
 },
 "nbformat": 4,
 "nbformat_minor": 5
}
