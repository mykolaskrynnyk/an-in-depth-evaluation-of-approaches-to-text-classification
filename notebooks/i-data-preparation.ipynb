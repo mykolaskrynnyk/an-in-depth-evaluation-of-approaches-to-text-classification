{
 "cells": [
  {
   "cell_type": "markdown",
   "metadata": {
    "collapsed": true
   },
   "source": [
    "# An In-depth Evaluation of Approaches to Text Classification (IDEATC)\n",
    "\n",
    "## I. Data Preparation\n",
    "\n",
    "_This notebook is used to prepare data for the project. This includes retrieving and preprocessing datasets – mostly from [Hugging Face](https://huggingface.co/datasets) – for sentiment analysis, news categorisation and topic classification._"
   ]
  },
  {
   "cell_type": "markdown",
   "metadata": {},
   "source": [
    "### Libraries"
   ]
  },
  {
   "cell_type": "code",
   "execution_count": 1,
   "metadata": {
    "ExecuteTime": {
     "start_time": "2023-04-16T01:27:13.455235Z",
     "end_time": "2023-04-16T01:27:15.518682Z"
    }
   },
   "outputs": [],
   "source": [
    "# standard library\n",
    "import os\n",
    "import sys; sys.path.append(os.path.join(os.pardir, 'src'))\n",
    "from pathlib import Path\n",
    "from pprint import pprint\n",
    "from collections import Counter\n",
    "\n",
    "# data wrangling\n",
    "import pandas as pd\n",
    "from datasets import load_dataset, Dataset, DatasetDict\n",
    "from sklearn.datasets import fetch_20newsgroups\n",
    "\n",
    "# nlp\n",
    "import en_core_web_sm\n",
    "\n",
    "# local packages\n",
    "import src\n",
    "\n",
    "# other settings\n",
    "nlp = en_core_web_sm.load(disable=['ner'])\n",
    "SAVE_PATH_DATASET = Path(os.pardir, 'data', 'processed')\n",
    "SAVE_PATH_PHRASES = Path(os.pardir, 'models', 'gensim')"
   ]
  },
  {
   "cell_type": "markdown",
   "source": [
    "## I. Yelp Polarity\n",
    "\n",
    "**Source:** [Hugging Face Datasets](https://huggingface.co/datasets/yelp_polarity)\n",
    "**Task:** Sentiment Analysis\n",
    "**Training Size:** 560,000\n",
    "**Testing Size:** 1,000\n",
    "**Target:** Binary"
   ],
   "metadata": {
    "collapsed": false
   }
  },
  {
   "cell_type": "code",
   "execution_count": 2,
   "metadata": {
    "ExecuteTime": {
     "start_time": "2023-04-08T12:36:57.174549Z",
     "end_time": "2023-04-08T12:36:58.839046Z"
    }
   },
   "outputs": [
    {
     "name": "stderr",
     "output_type": "stream",
     "text": [
      "Found cached dataset yelp_polarity (/Users/mykolaskrynnyk/.cache/huggingface/datasets/yelp_polarity/plain_text/1.0.0/14f90415c754f47cf9087eadac25823a395fef4400c7903c5897f55cfaaa6f61)\n"
     ]
    },
    {
     "data": {
      "text/plain": "  0%|          | 0/2 [00:00<?, ?it/s]",
      "application/vnd.jupyter.widget-view+json": {
       "version_major": 2,
       "version_minor": 0,
       "model_id": "00cc3f3d6d4c4976ba35f8ab54f83d76"
      }
     },
     "metadata": {},
     "output_type": "display_data"
    },
    {
     "data": {
      "text/plain": "DatasetDict({\n    train: Dataset({\n        features: ['text', 'label'],\n        num_rows: 560000\n    })\n    test: Dataset({\n        features: ['text', 'label'],\n        num_rows: 38000\n    })\n})"
     },
     "execution_count": 2,
     "metadata": {},
     "output_type": "execute_result"
    }
   ],
   "source": [
    "dataset_name = 'yelp_polarity'\n",
    "dataset = load_dataset(dataset_name)\n",
    "dataset"
   ]
  },
  {
   "cell_type": "code",
   "execution_count": 3,
   "metadata": {
    "ExecuteTime": {
     "start_time": "2023-04-08T12:36:58.810258Z",
     "end_time": "2023-04-08T12:36:58.839297Z"
    }
   },
   "outputs": [
    {
     "data": {
      "text/plain": "{'text': Value(dtype='string', id=None),\n 'label': ClassLabel(names=['1', '2'], id=None)}"
     },
     "execution_count": 3,
     "metadata": {},
     "output_type": "execute_result"
    }
   ],
   "source": [
    "dataset['train'].features"
   ]
  },
  {
   "cell_type": "code",
   "execution_count": 4,
   "outputs": [
    {
     "name": "stderr",
     "output_type": "stream",
     "text": [
      "Loading cached split indices for dataset at /Users/mykolaskrynnyk/.cache/huggingface/datasets/yelp_polarity/plain_text/1.0.0/14f90415c754f47cf9087eadac25823a395fef4400c7903c5897f55cfaaa6f61/cache-eeb4110384fb2880.arrow and /Users/mykolaskrynnyk/.cache/huggingface/datasets/yelp_polarity/plain_text/1.0.0/14f90415c754f47cf9087eadac25823a395fef4400c7903c5897f55cfaaa6f61/cache-3011dfe065f18ce8.arrow\n"
     ]
    },
    {
     "name": "stdout",
     "output_type": "stream",
     "text": [
      "{'label': ClassLabel(names=['Negative', 'Positive'], id=None),\n",
      " 'text': Value(dtype='string', id=None)}\n"
     ]
    },
    {
     "data": {
      "text/plain": "Map:   0%|          | 0/560000 [00:00<?, ? examples/s]",
      "application/vnd.jupyter.widget-view+json": {
       "version_major": 2,
       "version_minor": 0,
       "model_id": "fd4901c2fd11445185e2d753b26fd29d"
      }
     },
     "metadata": {},
     "output_type": "display_data"
    },
    {
     "data": {
      "text/plain": "Map:   0%|          | 0/1000 [00:00<?, ? examples/s]",
      "application/vnd.jupyter.widget-view+json": {
       "version_major": 2,
       "version_minor": 0,
       "model_id": "6ea569c607f941219d030f86245a0d70"
      }
     },
     "metadata": {},
     "output_type": "display_data"
    },
    {
     "data": {
      "text/plain": "Map (num_proc=4):   0%|          | 0/560000 [00:00<?, ? examples/s]",
      "application/vnd.jupyter.widget-view+json": {
       "version_major": 2,
       "version_minor": 0,
       "model_id": "546f5b1da6de44ce9e8afa42dd63e1ae"
      }
     },
     "metadata": {},
     "output_type": "display_data"
    },
    {
     "data": {
      "text/plain": "Map (num_proc=4):   0%|          | 0/1000 [00:00<?, ? examples/s]",
      "application/vnd.jupyter.widget-view+json": {
       "version_major": 2,
       "version_minor": 0,
       "model_id": "dc8214b5a0a244e892560437d43248c5"
      }
     },
     "metadata": {},
     "output_type": "display_data"
    },
    {
     "name": "stderr",
     "output_type": "stream",
     "text": [
      "17500it [00:41, 421.86it/s]\n"
     ]
    },
    {
     "name": "stdout",
     "output_type": "stream",
     "text": [
      "Phrase count: 1,260\n"
     ]
    },
    {
     "data": {
      "text/plain": "Map:   0%|          | 0/560000 [00:00<?, ? examples/s]",
      "application/vnd.jupyter.widget-view+json": {
       "version_major": 2,
       "version_minor": 0,
       "model_id": "9afd4d4e94dc46e38dc8d5e87c7a4f4c"
      }
     },
     "metadata": {},
     "output_type": "display_data"
    },
    {
     "data": {
      "text/plain": "Map:   0%|          | 0/1000 [00:00<?, ? examples/s]",
      "application/vnd.jupyter.widget-view+json": {
       "version_major": 2,
       "version_minor": 0,
       "model_id": "0612accfbf0447458bb5cf85cec74a03"
      }
     },
     "metadata": {},
     "output_type": "display_data"
    },
    {
     "name": "stdout",
     "output_type": "stream",
     "text": [
      "Class count: 2\n",
      "Label   \tTrain\tTest\tSupport (Train)\n",
      "Negative\t50.00%\t50.00%\t280,000\n",
      "Positive\t50.00%\t50.00%\t280,000\n"
     ]
    },
    {
     "data": {
      "text/plain": "DatasetDict({\n    train: Dataset({\n        features: ['text', 'label', 'text_clean'],\n        num_rows: 560000\n    })\n    test: Dataset({\n        features: ['text', 'label', 'text_clean'],\n        num_rows: 1000\n    })\n})"
     },
     "execution_count": 4,
     "metadata": {},
     "output_type": "execute_result"
    }
   ],
   "source": [
    "dataset = src.preparation.preprocess_dataset(\n",
    "    dataset_dict=dataset,\n",
    "    class_names=['Negative', 'Positive'],\n",
    "    undersample_test=True,\n",
    "    nlp=nlp,\n",
    "    phrases_save_path=SAVE_PATH_PHRASES.joinpath(f'phrases_{dataset_name}.pkl'),\n",
    "    verbose=True\n",
    ")\n",
    "dataset"
   ],
   "metadata": {
    "collapsed": false,
    "ExecuteTime": {
     "start_time": "2023-04-08T12:36:58.812480Z",
     "end_time": "2023-04-08T13:09:28.668604Z"
    }
   }
  },
  {
   "cell_type": "code",
   "execution_count": 5,
   "outputs": [
    {
     "name": "stdout",
     "output_type": "stream",
     "text": [
      "{'label': 0,\n",
      " 'text': \"I'm writing this review to give you a heads up before you see this \"\n",
      "         'Doctor. The office staff and administration are very unprofessional. '\n",
      "         'I left a message with multiple people regarding my bill, and no one '\n",
      "         'ever called me back. I had to hound them to get an answer about my '\n",
      "         'bill. \\\\n\\\\nSecond, and most important, make sure your insurance is '\n",
      "         \"going to cover Dr. Goldberg's visits and blood work. He recommended \"\n",
      "         'to me that I get a physical, and he knew I was a student because I '\n",
      "         'told him. I got the physical done. Later, I found out my health '\n",
      "         \"insurance doesn't pay for preventative visits. I received an $800.00 \"\n",
      "         \"bill for the blood work. I can't pay for my bill because I'm a \"\n",
      "         \"student and don't have any cash flow at this current time. I can't \"\n",
      "         \"believe the Doctor wouldn't give me a heads up to make sure my \"\n",
      "         \"insurance would cover work that wasn't necessary and was strictly \"\n",
      "         \"preventative. The office can't do anything to help me cover the \"\n",
      "         'bill. In addition, the office staff said the onus is on me to make '\n",
      "         'sure my insurance covers visits. Frustrating situation!',\n",
      " 'text_clean': 'write_review give head before see doctor_office staff and '\n",
      "               'administration unprofessional leave_message multiple people '\n",
      "               'regard bill and one call have hound get answer bill and '\n",
      "               'important make_sure insurance go cover visit and blood work '\n",
      "               'recommend that get physical and know student because tell get '\n",
      "               'physical do find health insurance pay preventative visit '\n",
      "               'receive bill blood work pay_bill because student and have cash '\n",
      "               'flow current time believe give head make_sure insurance cover '\n",
      "               'work necessary and preventative office do help cover bill '\n",
      "               'addition office_staff say onus make_sure insurance cover visit '\n",
      "               'frustrating situation'}\n"
     ]
    }
   ],
   "source": [
    "pprint(dataset['train'][3])"
   ],
   "metadata": {
    "collapsed": false,
    "ExecuteTime": {
     "start_time": "2023-04-08T13:09:28.669910Z",
     "end_time": "2023-04-08T13:09:28.672345Z"
    }
   }
  },
  {
   "cell_type": "code",
   "execution_count": 6,
   "metadata": {
    "ExecuteTime": {
     "start_time": "2023-04-08T13:09:28.672147Z",
     "end_time": "2023-04-08T13:09:28.975143Z"
    }
   },
   "outputs": [
    {
     "data": {
      "text/plain": "Saving the dataset (0/2 shards):   0%|          | 0/560000 [00:00<?, ? examples/s]",
      "application/vnd.jupyter.widget-view+json": {
       "version_major": 2,
       "version_minor": 0,
       "model_id": "354f2110579c420f9791bbf2d9c0d142"
      }
     },
     "metadata": {},
     "output_type": "display_data"
    },
    {
     "data": {
      "text/plain": "Saving the dataset (0/1 shards):   0%|          | 0/1000 [00:00<?, ? examples/s]",
      "application/vnd.jupyter.widget-view+json": {
       "version_major": 2,
       "version_minor": 0,
       "model_id": "528f244ee526486383895ddfd7b82a61"
      }
     },
     "metadata": {},
     "output_type": "display_data"
    }
   ],
   "source": [
    "path = SAVE_PATH_DATASET.joinpath(f'{dataset_name}_processed')\n",
    "dataset.save_to_disk(path)"
   ]
  },
  {
   "cell_type": "markdown",
   "metadata": {},
   "source": [
    "## II. Yelp Review (Full)\n",
    "\n",
    "**Source:** [Hugging Face Datasets](https://huggingface.co/datasets/yelp_review_full)\n",
    "**Task:** Sentiment Analysis\n",
    "**Training Size:** 650,000\n",
    "**Testing Size:** 2,500\n",
    "**Target:** Multiclass (5 classes)"
   ]
  },
  {
   "cell_type": "code",
   "execution_count": 7,
   "metadata": {
    "ExecuteTime": {
     "start_time": "2023-04-08T13:09:28.982157Z",
     "end_time": "2023-04-08T13:09:31.087436Z"
    }
   },
   "outputs": [
    {
     "name": "stderr",
     "output_type": "stream",
     "text": [
      "Found cached dataset yelp_review_full (/Users/mykolaskrynnyk/.cache/huggingface/datasets/yelp_review_full/yelp_review_full/1.0.0/e8e18e19d7be9e75642fc66b198abadb116f73599ec89a69ba5dd8d1e57ba0bf)\n"
     ]
    },
    {
     "data": {
      "text/plain": "  0%|          | 0/2 [00:00<?, ?it/s]",
      "application/vnd.jupyter.widget-view+json": {
       "version_major": 2,
       "version_minor": 0,
       "model_id": "484190c9e2aa459aaf57db5f8cfb1f5d"
      }
     },
     "metadata": {},
     "output_type": "display_data"
    },
    {
     "data": {
      "text/plain": "DatasetDict({\n    train: Dataset({\n        features: ['label', 'text'],\n        num_rows: 650000\n    })\n    test: Dataset({\n        features: ['label', 'text'],\n        num_rows: 50000\n    })\n})"
     },
     "execution_count": 7,
     "metadata": {},
     "output_type": "execute_result"
    }
   ],
   "source": [
    "dataset_name = 'yelp_review_full'\n",
    "dataset = load_dataset(dataset_name)\n",
    "dataset"
   ]
  },
  {
   "cell_type": "code",
   "execution_count": 8,
   "metadata": {
    "ExecuteTime": {
     "start_time": "2023-04-08T13:09:31.086897Z",
     "end_time": "2023-04-08T13:09:31.094408Z"
    }
   },
   "outputs": [
    {
     "data": {
      "text/plain": "{'label': ClassLabel(names=['1 star', '2 star', '3 stars', '4 stars', '5 stars'], id=None),\n 'text': Value(dtype='string', id=None)}"
     },
     "execution_count": 8,
     "metadata": {},
     "output_type": "execute_result"
    }
   ],
   "source": [
    "dataset['train'].features"
   ]
  },
  {
   "cell_type": "code",
   "execution_count": 9,
   "outputs": [
    {
     "name": "stderr",
     "output_type": "stream",
     "text": [
      "Loading cached split indices for dataset at /Users/mykolaskrynnyk/.cache/huggingface/datasets/yelp_review_full/yelp_review_full/1.0.0/e8e18e19d7be9e75642fc66b198abadb116f73599ec89a69ba5dd8d1e57ba0bf/cache-1bc38269e6ab6e16.arrow and /Users/mykolaskrynnyk/.cache/huggingface/datasets/yelp_review_full/yelp_review_full/1.0.0/e8e18e19d7be9e75642fc66b198abadb116f73599ec89a69ba5dd8d1e57ba0bf/cache-a7e60c3d64bc800a.arrow\n"
     ]
    },
    {
     "name": "stdout",
     "output_type": "stream",
     "text": [
      "{'label': ClassLabel(names=['Very Negative', 'Negative', 'Neutral', 'Positive', 'Very Positive'], id=None),\n",
      " 'text': Value(dtype='string', id=None)}\n"
     ]
    },
    {
     "data": {
      "text/plain": "Map:   0%|          | 0/650000 [00:00<?, ? examples/s]",
      "application/vnd.jupyter.widget-view+json": {
       "version_major": 2,
       "version_minor": 0,
       "model_id": "9ad86237c0e44d26a36f58327f3dab1a"
      }
     },
     "metadata": {},
     "output_type": "display_data"
    },
    {
     "data": {
      "text/plain": "Map:   0%|          | 0/2500 [00:00<?, ? examples/s]",
      "application/vnd.jupyter.widget-view+json": {
       "version_major": 2,
       "version_minor": 0,
       "model_id": "af971b23795e4065b20112f94bac89aa"
      }
     },
     "metadata": {},
     "output_type": "display_data"
    },
    {
     "data": {
      "text/plain": "Map (num_proc=4):   0%|          | 0/650000 [00:00<?, ? examples/s]",
      "application/vnd.jupyter.widget-view+json": {
       "version_major": 2,
       "version_minor": 0,
       "model_id": "9ecc1294598b4c3cb22033dffa204f04"
      }
     },
     "metadata": {},
     "output_type": "display_data"
    },
    {
     "data": {
      "text/plain": "Map (num_proc=4):   0%|          | 0/2500 [00:00<?, ? examples/s]",
      "application/vnd.jupyter.widget-view+json": {
       "version_major": 2,
       "version_minor": 0,
       "model_id": "d17584be340747b2a6105aec5e3b97a1"
      }
     },
     "metadata": {},
     "output_type": "display_data"
    },
    {
     "name": "stderr",
     "output_type": "stream",
     "text": [
      "20313it [00:47, 425.76it/s]\n"
     ]
    },
    {
     "name": "stdout",
     "output_type": "stream",
     "text": [
      "Phrase count: 1,245\n"
     ]
    },
    {
     "data": {
      "text/plain": "Map:   0%|          | 0/650000 [00:00<?, ? examples/s]",
      "application/vnd.jupyter.widget-view+json": {
       "version_major": 2,
       "version_minor": 0,
       "model_id": "05fbae400e81458fa48bad75a197b250"
      }
     },
     "metadata": {},
     "output_type": "display_data"
    },
    {
     "data": {
      "text/plain": "Map:   0%|          | 0/2500 [00:00<?, ? examples/s]",
      "application/vnd.jupyter.widget-view+json": {
       "version_major": 2,
       "version_minor": 0,
       "model_id": "45b7689350d849a58efca095b7f1edc8"
      }
     },
     "metadata": {},
     "output_type": "display_data"
    },
    {
     "name": "stdout",
     "output_type": "stream",
     "text": [
      "Class count: 5\n",
      "Label        \tTrain\tTest\tSupport (Train)\n",
      "Very Positive\t20.00%\t20.00%\t130,000\n",
      "Negative     \t20.00%\t20.00%\t130,000\n",
      "Positive     \t20.00%\t20.00%\t130,000\n",
      "Very Negative\t20.00%\t20.00%\t130,000\n",
      "Neutral      \t20.00%\t20.00%\t130,000\n"
     ]
    },
    {
     "data": {
      "text/plain": "DatasetDict({\n    train: Dataset({\n        features: ['label', 'text', 'text_clean'],\n        num_rows: 650000\n    })\n    test: Dataset({\n        features: ['label', 'text', 'text_clean'],\n        num_rows: 2500\n    })\n})"
     },
     "execution_count": 9,
     "metadata": {},
     "output_type": "execute_result"
    }
   ],
   "source": [
    "dataset = src.preparation.preprocess_dataset(\n",
    "    dataset_dict=dataset,\n",
    "    class_names=['Very Negative', 'Negative', 'Neutral', 'Positive', 'Very Positive'],\n",
    "    undersample_test=True,\n",
    "    nlp=nlp,\n",
    "    phrases_save_path=SAVE_PATH_PHRASES.joinpath(f'phrases_{dataset_name}.pkl'),\n",
    "    verbose=True\n",
    ")\n",
    "dataset"
   ],
   "metadata": {
    "collapsed": false,
    "ExecuteTime": {
     "start_time": "2023-04-08T13:09:31.089663Z",
     "end_time": "2023-04-08T13:54:49.597030Z"
    }
   }
  },
  {
   "cell_type": "code",
   "execution_count": 10,
   "outputs": [
    {
     "name": "stdout",
     "output_type": "stream",
     "text": [
      "{'label': 4,\n",
      " 'text': 'dr. goldberg offers everything i look for in a general '\n",
      "         \"practitioner.  he's nice and easy to talk to without being \"\n",
      "         \"patronizing; he's always on time in seeing his patients; he's \"\n",
      "         'affiliated with a top-notch hospital (nyu) which my parents have '\n",
      "         'explained to me is very important in case something happens and you '\n",
      "         'need surgery; and you can get referrals to see specialists without '\n",
      "         \"having to see him first.  really, what more do you need?  i'm \"\n",
      "         'sitting here trying to think of any complaints i have about him, but '\n",
      "         \"i'm really drawing a blank.\",\n",
      " 'text_clean': 'offer look general practitioner nice and easy talk patronize '\n",
      "               'time see patient affiliate top_notch hospital parent explain '\n",
      "               'important case happen and need surgery and get referral see '\n",
      "               'specialist have see more need sit try think complaint have but '\n",
      "               'draw blank'}\n"
     ]
    }
   ],
   "source": [
    "pprint(dataset['train'][0])"
   ],
   "metadata": {
    "collapsed": false,
    "ExecuteTime": {
     "start_time": "2023-04-08T13:54:49.600685Z",
     "end_time": "2023-04-08T13:54:49.603094Z"
    }
   }
  },
  {
   "cell_type": "code",
   "execution_count": 11,
   "metadata": {
    "ExecuteTime": {
     "start_time": "2023-04-08T13:54:49.603156Z",
     "end_time": "2023-04-08T13:54:51.850144Z"
    }
   },
   "outputs": [
    {
     "data": {
      "text/plain": "Saving the dataset (0/2 shards):   0%|          | 0/650000 [00:00<?, ? examples/s]",
      "application/vnd.jupyter.widget-view+json": {
       "version_major": 2,
       "version_minor": 0,
       "model_id": "dc1c4329a4af438e9b15e72d1b48443d"
      }
     },
     "metadata": {},
     "output_type": "display_data"
    },
    {
     "data": {
      "text/plain": "Saving the dataset (0/1 shards):   0%|          | 0/2500 [00:00<?, ? examples/s]",
      "application/vnd.jupyter.widget-view+json": {
       "version_major": 2,
       "version_minor": 0,
       "model_id": "99623252d25640349529f934a642e0f1"
      }
     },
     "metadata": {},
     "output_type": "display_data"
    }
   ],
   "source": [
    "path = SAVE_PATH_DATASET.joinpath(f'{dataset_name}_processed')\n",
    "dataset.save_to_disk(path)"
   ]
  },
  {
   "cell_type": "markdown",
   "metadata": {},
   "source": [
    "## III. IMDb Reviews\n",
    "\n",
    "**Source:** [Hugging Face Datasets](https://huggingface.co/datasets/imdb)\n",
    "**Task:** Sentiment Analysis\n",
    "**Training Size:** 25,000\n",
    "**Testing Size:** 1,000\n",
    "**Target:** Binary"
   ]
  },
  {
   "cell_type": "code",
   "execution_count": 12,
   "metadata": {
    "ExecuteTime": {
     "start_time": "2023-04-08T13:54:51.853362Z",
     "end_time": "2023-04-08T13:54:53.558951Z"
    }
   },
   "outputs": [
    {
     "name": "stderr",
     "output_type": "stream",
     "text": [
      "Found cached dataset imdb (/Users/mykolaskrynnyk/.cache/huggingface/datasets/imdb/plain_text/1.0.0/d613c88cf8fa3bab83b4ded3713f1f74830d1100e171db75bbddb80b3345c9c0)\n"
     ]
    },
    {
     "data": {
      "text/plain": "  0%|          | 0/3 [00:00<?, ?it/s]",
      "application/vnd.jupyter.widget-view+json": {
       "version_major": 2,
       "version_minor": 0,
       "model_id": "dd7eee421087425196b777d075607b74"
      }
     },
     "metadata": {},
     "output_type": "display_data"
    },
    {
     "data": {
      "text/plain": "DatasetDict({\n    train: Dataset({\n        features: ['text', 'label'],\n        num_rows: 25000\n    })\n    test: Dataset({\n        features: ['text', 'label'],\n        num_rows: 25000\n    })\n    unsupervised: Dataset({\n        features: ['text', 'label'],\n        num_rows: 50000\n    })\n})"
     },
     "execution_count": 12,
     "metadata": {},
     "output_type": "execute_result"
    }
   ],
   "source": [
    "dataset_name = 'imdb'\n",
    "dataset = load_dataset(dataset_name)\n",
    "dataset"
   ]
  },
  {
   "cell_type": "code",
   "execution_count": 13,
   "metadata": {
    "ExecuteTime": {
     "start_time": "2023-04-08T13:54:53.556287Z",
     "end_time": "2023-04-08T13:54:53.560281Z"
    }
   },
   "outputs": [],
   "source": [
    "dataset.pop('unsupervised');"
   ]
  },
  {
   "cell_type": "code",
   "execution_count": 14,
   "metadata": {
    "ExecuteTime": {
     "start_time": "2023-04-08T13:54:53.558918Z",
     "end_time": "2023-04-08T13:54:53.566485Z"
    }
   },
   "outputs": [
    {
     "data": {
      "text/plain": "{'text': Value(dtype='string', id=None),\n 'label': ClassLabel(names=['neg', 'pos'], id=None)}"
     },
     "execution_count": 14,
     "metadata": {},
     "output_type": "execute_result"
    }
   ],
   "source": [
    "dataset['train'].features"
   ]
  },
  {
   "cell_type": "code",
   "execution_count": 15,
   "outputs": [
    {
     "name": "stderr",
     "output_type": "stream",
     "text": [
      "Loading cached split indices for dataset at /Users/mykolaskrynnyk/.cache/huggingface/datasets/imdb/plain_text/1.0.0/d613c88cf8fa3bab83b4ded3713f1f74830d1100e171db75bbddb80b3345c9c0/cache-7883781f4ee3ff88.arrow and /Users/mykolaskrynnyk/.cache/huggingface/datasets/imdb/plain_text/1.0.0/d613c88cf8fa3bab83b4ded3713f1f74830d1100e171db75bbddb80b3345c9c0/cache-ac48d6be58849160.arrow\n"
     ]
    },
    {
     "name": "stdout",
     "output_type": "stream",
     "text": [
      "{'label': ClassLabel(names=['Negative', 'Positive'], id=None),\n",
      " 'text': Value(dtype='string', id=None)}\n"
     ]
    },
    {
     "data": {
      "text/plain": "Map:   0%|          | 0/25000 [00:00<?, ? examples/s]",
      "application/vnd.jupyter.widget-view+json": {
       "version_major": 2,
       "version_minor": 0,
       "model_id": "4f82560fe0af4a6ca6f6c6b95e3279ff"
      }
     },
     "metadata": {},
     "output_type": "display_data"
    },
    {
     "data": {
      "text/plain": "Map:   0%|          | 0/1000 [00:00<?, ? examples/s]",
      "application/vnd.jupyter.widget-view+json": {
       "version_major": 2,
       "version_minor": 0,
       "model_id": "6605b8eb806d47a5bf654113ce48cbb4"
      }
     },
     "metadata": {},
     "output_type": "display_data"
    },
    {
     "data": {
      "text/plain": "Map (num_proc=4):   0%|          | 0/25000 [00:00<?, ? examples/s]",
      "application/vnd.jupyter.widget-view+json": {
       "version_major": 2,
       "version_minor": 0,
       "model_id": "996bd544a7524811a7e22a8c073d8a0b"
      }
     },
     "metadata": {},
     "output_type": "display_data"
    },
    {
     "data": {
      "text/plain": "Map (num_proc=4):   0%|          | 0/1000 [00:00<?, ? examples/s]",
      "application/vnd.jupyter.widget-view+json": {
       "version_major": 2,
       "version_minor": 0,
       "model_id": "f2034d0c954d461daeeb6705e51bab80"
      }
     },
     "metadata": {},
     "output_type": "display_data"
    },
    {
     "name": "stderr",
     "output_type": "stream",
     "text": [
      "782it [00:03, 250.31it/s]\n"
     ]
    },
    {
     "name": "stdout",
     "output_type": "stream",
     "text": [
      "Phrase count: 1,106\n"
     ]
    },
    {
     "data": {
      "text/plain": "Map:   0%|          | 0/25000 [00:00<?, ? examples/s]",
      "application/vnd.jupyter.widget-view+json": {
       "version_major": 2,
       "version_minor": 0,
       "model_id": "35c8c80d9f4f44e68980e4b8de173c18"
      }
     },
     "metadata": {},
     "output_type": "display_data"
    },
    {
     "data": {
      "text/plain": "Map:   0%|          | 0/1000 [00:00<?, ? examples/s]",
      "application/vnd.jupyter.widget-view+json": {
       "version_major": 2,
       "version_minor": 0,
       "model_id": "f541b195f53e4b5193d8db539dabc850"
      }
     },
     "metadata": {},
     "output_type": "display_data"
    },
    {
     "name": "stdout",
     "output_type": "stream",
     "text": [
      "Class count: 2\n",
      "Label   \tTrain\tTest\tSupport (Train)\n",
      "Negative\t50.00%\t50.00%\t12,500\n",
      "Positive\t50.00%\t50.00%\t12,500\n"
     ]
    },
    {
     "data": {
      "text/plain": "DatasetDict({\n    train: Dataset({\n        features: ['text', 'label', 'text_clean'],\n        num_rows: 25000\n    })\n    test: Dataset({\n        features: ['text', 'label', 'text_clean'],\n        num_rows: 1000\n    })\n})"
     },
     "execution_count": 15,
     "metadata": {},
     "output_type": "execute_result"
    }
   ],
   "source": [
    "dataset = src.preparation.preprocess_dataset(\n",
    "    dataset_dict=dataset,\n",
    "    class_names=['Negative', 'Positive'],\n",
    "    undersample_test=True,\n",
    "    nlp=nlp,\n",
    "    phrases_save_path=SAVE_PATH_PHRASES.joinpath(f'phrases_{dataset_name}.pkl'),\n",
    "    verbose=True\n",
    ")\n",
    "dataset"
   ],
   "metadata": {
    "collapsed": false,
    "ExecuteTime": {
     "start_time": "2023-04-08T13:54:53.561789Z",
     "end_time": "2023-04-08T14:03:53.889405Z"
    }
   }
  },
  {
   "cell_type": "code",
   "execution_count": 16,
   "metadata": {
    "ExecuteTime": {
     "start_time": "2023-04-08T14:03:53.868089Z",
     "end_time": "2023-04-08T14:03:53.891045Z"
    }
   },
   "outputs": [
    {
     "name": "stdout",
     "output_type": "stream",
     "text": [
      "{'label': 0,\n",
      " 'text': 'I rented I AM CURIOUS-YELLOW from my video store because of all the '\n",
      "         'controversy that surrounded it when it was first released in 1967. I '\n",
      "         'also heard that at first it was seized by U.S. customs if it ever '\n",
      "         'tried to enter this country, therefore being a fan of films '\n",
      "         'considered \"controversial\" I really had to see this for myself.<br '\n",
      "         '/><br />The plot is centered around a young Swedish drama student '\n",
      "         'named Lena who wants to learn everything she can about life. In '\n",
      "         'particular she wants to focus her attentions to making some sort of '\n",
      "         'documentary on what the average Swede thought about certain '\n",
      "         'political issues such as the Vietnam War and race issues in the '\n",
      "         'United States. In between asking politicians and ordinary denizens '\n",
      "         'of Stockholm about their opinions on politics, she has sex with her '\n",
      "         'drama teacher, classmates, and married men.<br /><br />What kills me '\n",
      "         'about I AM CURIOUS-YELLOW is that 40 years ago, this was considered '\n",
      "         'pornographic. Really, the sex and nudity scenes are few and far '\n",
      "         \"between, even then it's not shot like some cheaply made porno. While \"\n",
      "         'my countrymen mind find it shocking, in reality sex and nudity are a '\n",
      "         'major staple in Swedish cinema. Even Ingmar Bergman, arguably their '\n",
      "         'answer to good old boy John Ford, had sex scenes in his films.<br '\n",
      "         '/><br />I do commend the filmmakers for the fact that any sex shown '\n",
      "         'in the film is shown for artistic purposes rather than just to shock '\n",
      "         'people and make money to be shown in pornographic theaters in '\n",
      "         'America. I AM CURIOUS-YELLOW is a good film for anyone wanting to '\n",
      "         'study the meat and potatoes (no pun intended) of Swedish cinema. But '\n",
      "         \"really, this film doesn't have much of a plot.\",\n",
      " 'text_clean': 'rent curious video_store because controversy surround when '\n",
      "               'release hear that seize custom if try enter country fan film '\n",
      "               'consider controversial have see myself br plot center young '\n",
      "               'swedish drama student name want learn life particular want '\n",
      "               'focus attention make sort documentary average swede think '\n",
      "               'certain political issue such and race issue ask politician and '\n",
      "               'ordinary denizen opinion politic have sex drama teacher '\n",
      "               'classmate and marry kill about that year consider pornographic '\n",
      "               'sex and nudity scene few and shoot make porno while countryman '\n",
      "               'mind find shocking reality sex and nudity major staple swedish '\n",
      "               'cinema answer good old_boy have sex_scene films_br br commend '\n",
      "               'filmmaker fact_that sex show film show artistic purpose shock '\n",
      "               'people and make money show pornographic theater good film want '\n",
      "               'study meat and potato pun_intend swedish cinema but film have '\n",
      "               'much plot'}\n"
     ]
    }
   ],
   "source": [
    "pprint(dataset['train'][0])"
   ]
  },
  {
   "cell_type": "code",
   "execution_count": 17,
   "metadata": {
    "ExecuteTime": {
     "start_time": "2023-04-08T14:03:53.870320Z",
     "end_time": "2023-04-08T14:03:53.916160Z"
    }
   },
   "outputs": [
    {
     "data": {
      "text/plain": "Saving the dataset (0/1 shards):   0%|          | 0/25000 [00:00<?, ? examples/s]",
      "application/vnd.jupyter.widget-view+json": {
       "version_major": 2,
       "version_minor": 0,
       "model_id": "dbb39247bcff46d981fe8dffd49e7b0d"
      }
     },
     "metadata": {},
     "output_type": "display_data"
    },
    {
     "data": {
      "text/plain": "Saving the dataset (0/1 shards):   0%|          | 0/1000 [00:00<?, ? examples/s]",
      "application/vnd.jupyter.widget-view+json": {
       "version_major": 2,
       "version_minor": 0,
       "model_id": "3ca9b08a99e2410099ed2a125ceffe6a"
      }
     },
     "metadata": {},
     "output_type": "display_data"
    }
   ],
   "source": [
    "path = SAVE_PATH_DATASET.joinpath(f'{dataset_name}_processed')\n",
    "dataset.save_to_disk(path)"
   ]
  },
  {
   "cell_type": "markdown",
   "metadata": {},
   "source": [
    "## IV. Rotten Tomatoes Reviews\n",
    "\n",
    "**Source:** [Hugging Face Datasets](https://huggingface.co/datasets/rotten_tomatoes)\n",
    "**Task:** Sentiment Analysis\n",
    "**Training Size:** 8,530\n",
    "**Testing Size:** 1,066\n",
    "**Target:** Binary"
   ]
  },
  {
   "cell_type": "code",
   "execution_count": 2,
   "metadata": {
    "ExecuteTime": {
     "start_time": "2023-04-09T16:51:13.384472Z",
     "end_time": "2023-04-09T16:51:15.422415Z"
    }
   },
   "outputs": [
    {
     "name": "stderr",
     "output_type": "stream",
     "text": [
      "Found cached dataset rotten_tomatoes (/Users/mykolaskrynnyk/.cache/huggingface/datasets/rotten_tomatoes/default/1.0.0/40d411e45a6ce3484deed7cc15b82a53dad9a72aafd9f86f8f227134bec5ca46)\n"
     ]
    },
    {
     "data": {
      "text/plain": "  0%|          | 0/3 [00:00<?, ?it/s]",
      "application/vnd.jupyter.widget-view+json": {
       "version_major": 2,
       "version_minor": 0,
       "model_id": "38548c5e643041828a58514b3b497b8f"
      }
     },
     "metadata": {},
     "output_type": "display_data"
    },
    {
     "data": {
      "text/plain": "DatasetDict({\n    train: Dataset({\n        features: ['text', 'label'],\n        num_rows: 8530\n    })\n    validation: Dataset({\n        features: ['text', 'label'],\n        num_rows: 1066\n    })\n    test: Dataset({\n        features: ['text', 'label'],\n        num_rows: 1066\n    })\n})"
     },
     "execution_count": 2,
     "metadata": {},
     "output_type": "execute_result"
    }
   ],
   "source": [
    "dataset_name = 'rotten_tomatoes'\n",
    "dataset = load_dataset(dataset_name)\n",
    "dataset"
   ]
  },
  {
   "cell_type": "code",
   "execution_count": 3,
   "metadata": {
    "ExecuteTime": {
     "start_time": "2023-04-09T16:51:15.914605Z",
     "end_time": "2023-04-09T16:51:15.919119Z"
    }
   },
   "outputs": [
    {
     "data": {
      "text/plain": "{'text': Value(dtype='string', id=None),\n 'label': ClassLabel(names=['neg', 'pos'], id=None)}"
     },
     "execution_count": 3,
     "metadata": {},
     "output_type": "execute_result"
    }
   ],
   "source": [
    "dataset['train'].features"
   ]
  },
  {
   "cell_type": "code",
   "execution_count": 4,
   "metadata": {
    "ExecuteTime": {
     "start_time": "2023-04-09T16:51:16.481483Z",
     "end_time": "2023-04-09T16:51:26.726302Z"
    }
   },
   "outputs": [
    {
     "name": "stdout",
     "output_type": "stream",
     "text": [
      "{'label': ClassLabel(names=['Negative', 'Positive'], id=None),\n",
      " 'text': Value(dtype='string', id=None)}\n"
     ]
    },
    {
     "data": {
      "text/plain": "Map:   0%|          | 0/8530 [00:00<?, ? examples/s]",
      "application/vnd.jupyter.widget-view+json": {
       "version_major": 2,
       "version_minor": 0,
       "model_id": "14af1ebcfe3e4b4c95a704d7d0671fdc"
      }
     },
     "metadata": {},
     "output_type": "display_data"
    },
    {
     "data": {
      "text/plain": "Map:   0%|          | 0/1066 [00:00<?, ? examples/s]",
      "application/vnd.jupyter.widget-view+json": {
       "version_major": 2,
       "version_minor": 0,
       "model_id": "e6f1561ecfe540c1b5e5b1a2d3179b3b"
      }
     },
     "metadata": {},
     "output_type": "display_data"
    },
    {
     "data": {
      "text/plain": "Map:   0%|          | 0/1066 [00:00<?, ? examples/s]",
      "application/vnd.jupyter.widget-view+json": {
       "version_major": 2,
       "version_minor": 0,
       "model_id": "d85c5300e8b24339b8e554f35d1a130c"
      }
     },
     "metadata": {},
     "output_type": "display_data"
    },
    {
     "data": {
      "text/plain": "Map (num_proc=4):   0%|          | 0/8530 [00:00<?, ? examples/s]",
      "application/vnd.jupyter.widget-view+json": {
       "version_major": 2,
       "version_minor": 0,
       "model_id": "7ba41fdc942b421192a35876b7a1f50c"
      }
     },
     "metadata": {},
     "output_type": "display_data"
    },
    {
     "data": {
      "text/plain": "Map (num_proc=4):   0%|          | 0/1066 [00:00<?, ? examples/s]",
      "application/vnd.jupyter.widget-view+json": {
       "version_major": 2,
       "version_minor": 0,
       "model_id": "9b068911468c422f94436675ebee9a56"
      }
     },
     "metadata": {},
     "output_type": "display_data"
    },
    {
     "data": {
      "text/plain": "Map (num_proc=4):   0%|          | 0/1066 [00:00<?, ? examples/s]",
      "application/vnd.jupyter.widget-view+json": {
       "version_major": 2,
       "version_minor": 0,
       "model_id": "8d64fb8cd924472baabf48fb0afa9819"
      }
     },
     "metadata": {},
     "output_type": "display_data"
    },
    {
     "name": "stderr",
     "output_type": "stream",
     "text": [
      "267it [00:00, 1965.62it/s]\n"
     ]
    },
    {
     "name": "stdout",
     "output_type": "stream",
     "text": [
      "Phrase count: 2,260\n"
     ]
    },
    {
     "data": {
      "text/plain": "Map:   0%|          | 0/8530 [00:00<?, ? examples/s]",
      "application/vnd.jupyter.widget-view+json": {
       "version_major": 2,
       "version_minor": 0,
       "model_id": "5d3239d8a5d04b938bbe0287cfdd5aeb"
      }
     },
     "metadata": {},
     "output_type": "display_data"
    },
    {
     "data": {
      "text/plain": "Map:   0%|          | 0/1066 [00:00<?, ? examples/s]",
      "application/vnd.jupyter.widget-view+json": {
       "version_major": 2,
       "version_minor": 0,
       "model_id": "e3f0aef244154353b9a43a5d258e94c4"
      }
     },
     "metadata": {},
     "output_type": "display_data"
    },
    {
     "data": {
      "text/plain": "Map:   0%|          | 0/1066 [00:00<?, ? examples/s]",
      "application/vnd.jupyter.widget-view+json": {
       "version_major": 2,
       "version_minor": 0,
       "model_id": "9b07f11c8374405086b6741d379f5e16"
      }
     },
     "metadata": {},
     "output_type": "display_data"
    },
    {
     "name": "stdout",
     "output_type": "stream",
     "text": [
      "Class count: 2\n",
      "Label   \tTrain\tTest\tSupport (Train)\n",
      "Positive\t50.00%\t50.00%\t4,265\n",
      "Negative\t50.00%\t50.00%\t4,265\n"
     ]
    },
    {
     "data": {
      "text/plain": "DatasetDict({\n    train: Dataset({\n        features: ['text', 'label', 'text_clean'],\n        num_rows: 8530\n    })\n    validation: Dataset({\n        features: ['text', 'label', 'text_clean'],\n        num_rows: 1066\n    })\n    test: Dataset({\n        features: ['text', 'label', 'text_clean'],\n        num_rows: 1066\n    })\n})"
     },
     "execution_count": 4,
     "metadata": {},
     "output_type": "execute_result"
    }
   ],
   "source": [
    "dataset = src.preparation.preprocess_dataset(\n",
    "    dataset_dict=dataset,\n",
    "    class_names=['Negative', 'Positive'],\n",
    "    undersample_test=False,\n",
    "    nlp=nlp,\n",
    "    phrases_save_path=SAVE_PATH_PHRASES.joinpath(f'phrases_{dataset_name}.pkl'),\n",
    "    verbose=True\n",
    ")\n",
    "dataset"
   ]
  },
  {
   "cell_type": "code",
   "execution_count": 5,
   "metadata": {
    "ExecuteTime": {
     "start_time": "2023-04-09T16:51:28.903107Z",
     "end_time": "2023-04-09T16:51:28.932420Z"
    }
   },
   "outputs": [
    {
     "name": "stdout",
     "output_type": "stream",
     "text": [
      "{'label': 1,\n",
      " 'text': 'the rock is destined to be the 21st century\\'s new \" conan \" and '\n",
      "         \"that he's going to make a splash even greater than arnold \"\n",
      "         'schwarzenegger , jean-claud van damme or steven segal .',\n",
      " 'text_clean': 'rock destine st_century new and that go make splash great '\n",
      "               'schwarzenegger jean claud damme or steven segal'}\n"
     ]
    }
   ],
   "source": [
    "pprint(dataset['train'][0])"
   ]
  },
  {
   "cell_type": "code",
   "execution_count": 6,
   "metadata": {
    "ExecuteTime": {
     "start_time": "2023-04-09T16:51:29.529243Z",
     "end_time": "2023-04-09T16:51:29.544726Z"
    }
   },
   "outputs": [
    {
     "name": "stdout",
     "output_type": "stream",
     "text": [
      "Class count: 2\n",
      "Label   \tTrain\tTest\tSupport (Train)\n",
      "Positive\t50.00%\t50.00%\t4,265\n",
      "Negative\t50.00%\t50.00%\t4,265\n"
     ]
    }
   ],
   "source": [
    "src.preparation.utils.describe_labels(dataset)"
   ]
  },
  {
   "cell_type": "code",
   "execution_count": 7,
   "metadata": {
    "ExecuteTime": {
     "start_time": "2023-04-09T16:51:31.318803Z",
     "end_time": "2023-04-09T16:51:31.404006Z"
    }
   },
   "outputs": [
    {
     "data": {
      "text/plain": "Saving the dataset (0/1 shards):   0%|          | 0/8530 [00:00<?, ? examples/s]",
      "application/vnd.jupyter.widget-view+json": {
       "version_major": 2,
       "version_minor": 0,
       "model_id": "427f95783484488ca83d1acb8c8539a6"
      }
     },
     "metadata": {},
     "output_type": "display_data"
    },
    {
     "data": {
      "text/plain": "Saving the dataset (0/1 shards):   0%|          | 0/1066 [00:00<?, ? examples/s]",
      "application/vnd.jupyter.widget-view+json": {
       "version_major": 2,
       "version_minor": 0,
       "model_id": "5a74705d340d46279a702c46b8c6ac41"
      }
     },
     "metadata": {},
     "output_type": "display_data"
    },
    {
     "data": {
      "text/plain": "Saving the dataset (0/1 shards):   0%|          | 0/1066 [00:00<?, ? examples/s]",
      "application/vnd.jupyter.widget-view+json": {
       "version_major": 2,
       "version_minor": 0,
       "model_id": "201881b142454a4f899c310c4f9dee6c"
      }
     },
     "metadata": {},
     "output_type": "display_data"
    }
   ],
   "source": [
    "path = SAVE_PATH_DATASET.joinpath(f'{dataset_name}_processed')\n",
    "dataset.save_to_disk(path)"
   ]
  },
  {
   "cell_type": "markdown",
   "metadata": {},
   "source": [
    "## V. Stanford Sentiment Treebank\n",
    "\n",
    "**Source:** [Hugging Face Datasets](https://huggingface.co/datasets/rotten_tomatoes)\n",
    "**Task:** Sentiment Analysis\n",
    "**Training Size:** 8,544\n",
    "**Testing Size:** 1,101\n",
    "**Target:** Multiclass (3 classes)"
   ]
  },
  {
   "cell_type": "code",
   "execution_count": 24,
   "metadata": {
    "ExecuteTime": {
     "start_time": "2023-04-08T14:04:06.566874Z",
     "end_time": "2023-04-08T14:04:09.726175Z"
    }
   },
   "outputs": [
    {
     "name": "stderr",
     "output_type": "stream",
     "text": [
      "Found cached dataset json (/Users/mykolaskrynnyk/.cache/huggingface/datasets/SetFit___json/SetFit--sst5-4c07b9d5881ae209/0.0.0/0f7e3662623656454fcd2b650f34e886a7db4b9104504885bd462096cc7a9f51)\n"
     ]
    },
    {
     "data": {
      "text/plain": "  0%|          | 0/3 [00:00<?, ?it/s]",
      "application/vnd.jupyter.widget-view+json": {
       "version_major": 2,
       "version_minor": 0,
       "model_id": "7dc3b63c7f494386831b6eda71bb9929"
      }
     },
     "metadata": {},
     "output_type": "display_data"
    },
    {
     "data": {
      "text/plain": "DatasetDict({\n    train: Dataset({\n        features: ['text', 'label', 'label_text'],\n        num_rows: 8544\n    })\n    test: Dataset({\n        features: ['text', 'label', 'label_text'],\n        num_rows: 2210\n    })\n    validation: Dataset({\n        features: ['text', 'label', 'label_text'],\n        num_rows: 1101\n    })\n})"
     },
     "execution_count": 24,
     "metadata": {},
     "output_type": "execute_result"
    }
   ],
   "source": [
    "dataset_name = 'SetFit/sst5'\n",
    "dataset = load_dataset(dataset_name)\n",
    "dataset"
   ]
  },
  {
   "cell_type": "code",
   "execution_count": 25,
   "metadata": {
    "ExecuteTime": {
     "start_time": "2023-04-08T14:04:09.680645Z",
     "end_time": "2023-04-08T14:04:09.759883Z"
    }
   },
   "outputs": [],
   "source": [
    "dataset = dataset.remove_columns(['label_text'])"
   ]
  },
  {
   "cell_type": "code",
   "execution_count": 26,
   "metadata": {
    "ExecuteTime": {
     "start_time": "2023-04-08T14:04:09.683333Z",
     "end_time": "2023-04-08T14:04:09.760402Z"
    }
   },
   "outputs": [
    {
     "data": {
      "text/plain": "{'text': Value(dtype='string', id=None),\n 'label': Value(dtype='int64', id=None)}"
     },
     "execution_count": 26,
     "metadata": {},
     "output_type": "execute_result"
    }
   ],
   "source": [
    "dataset['train'].features"
   ]
  },
  {
   "cell_type": "code",
   "execution_count": 27,
   "outputs": [
    {
     "name": "stdout",
     "output_type": "stream",
     "text": [
      "{'label': ClassLabel(names=['Very Negative', 'Negative', 'Neutral', 'Positive', 'Very Positive'], id=None),\n",
      " 'text': Value(dtype='string', id=None)}\n"
     ]
    },
    {
     "data": {
      "text/plain": "Map:   0%|          | 0/8544 [00:00<?, ? examples/s]",
      "application/vnd.jupyter.widget-view+json": {
       "version_major": 2,
       "version_minor": 0,
       "model_id": "fcfe2ae377294d598e7793ae76014d22"
      }
     },
     "metadata": {},
     "output_type": "display_data"
    },
    {
     "data": {
      "text/plain": "Map:   0%|          | 0/2210 [00:00<?, ? examples/s]",
      "application/vnd.jupyter.widget-view+json": {
       "version_major": 2,
       "version_minor": 0,
       "model_id": "db441cde8de04ab1aebdd6379576698c"
      }
     },
     "metadata": {},
     "output_type": "display_data"
    },
    {
     "data": {
      "text/plain": "Map:   0%|          | 0/1101 [00:00<?, ? examples/s]",
      "application/vnd.jupyter.widget-view+json": {
       "version_major": 2,
       "version_minor": 0,
       "model_id": "d6688ed0e5b54d8f806fc232d1649edf"
      }
     },
     "metadata": {},
     "output_type": "display_data"
    },
    {
     "data": {
      "text/plain": "Map (num_proc=4):   0%|          | 0/8544 [00:00<?, ? examples/s]",
      "application/vnd.jupyter.widget-view+json": {
       "version_major": 2,
       "version_minor": 0,
       "model_id": "b37749598a124de98b10e0648d6e1bb5"
      }
     },
     "metadata": {},
     "output_type": "display_data"
    },
    {
     "data": {
      "text/plain": "Map (num_proc=4):   0%|          | 0/2210 [00:00<?, ? examples/s]",
      "application/vnd.jupyter.widget-view+json": {
       "version_major": 2,
       "version_minor": 0,
       "model_id": "1b564ad897dd4772921c9b6f545fbb40"
      }
     },
     "metadata": {},
     "output_type": "display_data"
    },
    {
     "data": {
      "text/plain": "Map (num_proc=4):   0%|          | 0/1101 [00:00<?, ? examples/s]",
      "application/vnd.jupyter.widget-view+json": {
       "version_major": 2,
       "version_minor": 0,
       "model_id": "a08bc7f683554cf39929e9cc9cc43d06"
      }
     },
     "metadata": {},
     "output_type": "display_data"
    },
    {
     "name": "stderr",
     "output_type": "stream",
     "text": [
      "267it [00:00, 2913.70it/s]"
     ]
    },
    {
     "name": "stdout",
     "output_type": "stream",
     "text": [
      "Phrase count: 1,983\n"
     ]
    },
    {
     "name": "stderr",
     "output_type": "stream",
     "text": [
      "\n"
     ]
    },
    {
     "data": {
      "text/plain": "Map:   0%|          | 0/8544 [00:00<?, ? examples/s]",
      "application/vnd.jupyter.widget-view+json": {
       "version_major": 2,
       "version_minor": 0,
       "model_id": "756c25001f924565b432bbb878873dc5"
      }
     },
     "metadata": {},
     "output_type": "display_data"
    },
    {
     "data": {
      "text/plain": "Map:   0%|          | 0/2210 [00:00<?, ? examples/s]",
      "application/vnd.jupyter.widget-view+json": {
       "version_major": 2,
       "version_minor": 0,
       "model_id": "5971ab5c36e043289a17d8c9ee220b84"
      }
     },
     "metadata": {},
     "output_type": "display_data"
    },
    {
     "data": {
      "text/plain": "Map:   0%|          | 0/1101 [00:00<?, ? examples/s]",
      "application/vnd.jupyter.widget-view+json": {
       "version_major": 2,
       "version_minor": 0,
       "model_id": "8d62d846d05e4e59943239fcf0cff42b"
      }
     },
     "metadata": {},
     "output_type": "display_data"
    },
    {
     "name": "stdout",
     "output_type": "stream",
     "text": [
      "Class count: 5\n",
      "Label        \tTrain\tTest\tSupport (Train)\n",
      "Positive     \t27.18%\t23.08%\t2,322\n",
      "Negative     \t25.96%\t28.64%\t2,218\n",
      "Neutral      \t19.01%\t17.60%\t1,624\n",
      "Very Positive\t15.07%\t18.05%\t1,288\n",
      "Very Negative\t12.78%\t12.62%\t1,092\n"
     ]
    },
    {
     "data": {
      "text/plain": "DatasetDict({\n    train: Dataset({\n        features: ['text', 'label', 'text_clean'],\n        num_rows: 8544\n    })\n    test: Dataset({\n        features: ['text', 'label', 'text_clean'],\n        num_rows: 2210\n    })\n    validation: Dataset({\n        features: ['text', 'label', 'text_clean'],\n        num_rows: 1101\n    })\n})"
     },
     "execution_count": 27,
     "metadata": {},
     "output_type": "execute_result"
    }
   ],
   "source": [
    "dataset_name = dataset_name.replace('/', '_').lower()\n",
    "dataset = src.preparation.preprocess_dataset(\n",
    "    dataset_dict=dataset,\n",
    "    class_names=['Very Negative', 'Negative', 'Neutral', 'Positive', 'Very Positive'],\n",
    "    undersample_test=False,\n",
    "    nlp=nlp,\n",
    "    phrases_save_path=SAVE_PATH_PHRASES.joinpath(f'phrases_{dataset_name}.pkl'),\n",
    "    verbose=True\n",
    ")\n",
    "dataset"
   ],
   "metadata": {
    "collapsed": false,
    "ExecuteTime": {
     "start_time": "2023-04-08T14:04:09.685296Z",
     "end_time": "2023-04-08T14:04:21.665903Z"
    }
   }
  },
  {
   "cell_type": "code",
   "execution_count": 28,
   "metadata": {
    "ExecuteTime": {
     "start_time": "2023-04-08T14:04:21.595335Z",
     "end_time": "2023-04-08T14:04:21.666210Z"
    }
   },
   "outputs": [
    {
     "name": "stdout",
     "output_type": "stream",
     "text": [
      "{'label': 4,\n",
      " 'text': 'a stirring , funny and finally transporting re-imagining of beauty '\n",
      "         'and the beast and 1930s horror films',\n",
      " 'text_clean': 'stirring funny and transport re imagining beauty and beast and '\n",
      "               'horror film'}\n"
     ]
    }
   ],
   "source": [
    "pprint(dataset['train'][0])"
   ]
  },
  {
   "cell_type": "code",
   "execution_count": 29,
   "metadata": {
    "ExecuteTime": {
     "start_time": "2023-04-08T14:04:21.602484Z",
     "end_time": "2023-04-08T14:04:21.666508Z"
    }
   },
   "outputs": [
    {
     "name": "stdout",
     "output_type": "stream",
     "text": [
      "Class count: 5\n",
      "Label        \tTrain\tTest\tSupport (Train)\n",
      "Positive     \t27.18%\t23.08%\t2,322\n",
      "Negative     \t25.96%\t28.64%\t2,218\n",
      "Neutral      \t19.01%\t17.60%\t1,624\n",
      "Very Positive\t15.07%\t18.05%\t1,288\n",
      "Very Negative\t12.78%\t12.62%\t1,092\n"
     ]
    }
   ],
   "source": [
    "src.preparation.utils.describe_labels(dataset)"
   ]
  },
  {
   "cell_type": "code",
   "execution_count": 30,
   "metadata": {
    "ExecuteTime": {
     "start_time": "2023-04-08T14:04:21.605181Z",
     "end_time": "2023-04-08T14:04:21.876475Z"
    }
   },
   "outputs": [
    {
     "data": {
      "text/plain": "Saving the dataset (0/1 shards):   0%|          | 0/8544 [00:00<?, ? examples/s]",
      "application/vnd.jupyter.widget-view+json": {
       "version_major": 2,
       "version_minor": 0,
       "model_id": "08f21ee6ce5047ccaf3e59dffa005dae"
      }
     },
     "metadata": {},
     "output_type": "display_data"
    },
    {
     "data": {
      "text/plain": "Saving the dataset (0/1 shards):   0%|          | 0/2210 [00:00<?, ? examples/s]",
      "application/vnd.jupyter.widget-view+json": {
       "version_major": 2,
       "version_minor": 0,
       "model_id": "ce68f3daf315408eaf2cde6becca7c7d"
      }
     },
     "metadata": {},
     "output_type": "display_data"
    },
    {
     "data": {
      "text/plain": "Saving the dataset (0/1 shards):   0%|          | 0/1101 [00:00<?, ? examples/s]",
      "application/vnd.jupyter.widget-view+json": {
       "version_major": 2,
       "version_minor": 0,
       "model_id": "8f2d054c8b184224bf058408e35420df"
      }
     },
     "metadata": {},
     "output_type": "display_data"
    }
   ],
   "source": [
    "path = SAVE_PATH_DATASET.joinpath(f'{dataset_name}_processed')\n",
    "dataset.save_to_disk(path)"
   ]
  },
  {
   "cell_type": "markdown",
   "metadata": {},
   "source": [
    "## VI. Dynabench DynaSent (Round 2)\n",
    "\n",
    "**Source:** [Hugging Face Datasets](https://huggingface.co/datasets/dynabench/dynasent)\n",
    "**Task:** Sentiment Analysis\n",
    "**Training Size:** 13,065\n",
    "**Testing Size:** 720\n",
    "**Target:** Multiclass (3 classes)"
   ]
  },
  {
   "cell_type": "code",
   "execution_count": 31,
   "metadata": {
    "ExecuteTime": {
     "start_time": "2023-04-08T14:04:21.638343Z",
     "end_time": "2023-04-08T14:04:23.547306Z"
    }
   },
   "outputs": [
    {
     "name": "stderr",
     "output_type": "stream",
     "text": [
      "Found cached dataset dynasent (/Users/mykolaskrynnyk/.cache/huggingface/datasets/dynabench___dynasent/dynabench.dynasent.r2.all/1.1.0/ab89971d9ae1aacc59ed44d6855bf0e89167417257e2c2666f38e532148f2967)\n"
     ]
    },
    {
     "data": {
      "text/plain": "  0%|          | 0/3 [00:00<?, ?it/s]",
      "application/vnd.jupyter.widget-view+json": {
       "version_major": 2,
       "version_minor": 0,
       "model_id": "b849bf9018034fc18325a66d428a2ea2"
      }
     },
     "metadata": {},
     "output_type": "display_data"
    },
    {
     "data": {
      "text/plain": "DatasetDict({\n    train: Dataset({\n        features: ['id', 'hit_ids', 'sentence', 'sentence_author', 'has_prompt', 'prompt_data', 'model_1_label', 'model_1_probs', 'text_id', 'label_distribution', 'gold_label', 'metadata'],\n        num_rows: 13065\n    })\n    validation: Dataset({\n        features: ['id', 'hit_ids', 'sentence', 'sentence_author', 'has_prompt', 'prompt_data', 'model_1_label', 'model_1_probs', 'text_id', 'label_distribution', 'gold_label', 'metadata'],\n        num_rows: 720\n    })\n    test: Dataset({\n        features: ['id', 'hit_ids', 'sentence', 'sentence_author', 'has_prompt', 'prompt_data', 'model_1_label', 'model_1_probs', 'text_id', 'label_distribution', 'gold_label', 'metadata'],\n        num_rows: 720\n    })\n})"
     },
     "execution_count": 31,
     "metadata": {},
     "output_type": "execute_result"
    }
   ],
   "source": [
    "dataset_name = 'dynabench/dynasent'\n",
    "dataset = load_dataset(dataset_name, 'dynabench.dynasent.r2.all')\n",
    "dataset"
   ]
  },
  {
   "cell_type": "code",
   "execution_count": 32,
   "metadata": {
    "ExecuteTime": {
     "start_time": "2023-04-08T14:04:23.546876Z",
     "end_time": "2023-04-08T14:04:23.560393Z"
    }
   },
   "outputs": [
    {
     "data": {
      "text/plain": "{'id': Value(dtype='string', id=None),\n 'hit_ids': Sequence(feature=Value(dtype='string', id=None), length=-1, id=None),\n 'sentence': Value(dtype='string', id=None),\n 'sentence_author': Value(dtype='string', id=None),\n 'has_prompt': Value(dtype='bool', id=None),\n 'prompt_data': {'indices_into_review_text': Sequence(feature=Value(dtype='int32', id=None), length=-1, id=None),\n  'review_rating': Value(dtype='int32', id=None),\n  'prompt_sentence': Value(dtype='string', id=None),\n  'review_id': Value(dtype='string', id=None)},\n 'model_1_label': Value(dtype='string', id=None),\n 'model_1_probs': {'negative': Value(dtype='float32', id=None),\n  'positive': Value(dtype='float32', id=None),\n  'neutral': Value(dtype='float32', id=None)},\n 'text_id': Value(dtype='string', id=None),\n 'label_distribution': {'positive': Sequence(feature=Value(dtype='string', id=None), length=-1, id=None),\n  'negative': Sequence(feature=Value(dtype='string', id=None), length=-1, id=None),\n  'neutral': Sequence(feature=Value(dtype='string', id=None), length=-1, id=None),\n  'mixed': Sequence(feature=Value(dtype='string', id=None), length=-1, id=None)},\n 'gold_label': Value(dtype='string', id=None),\n 'metadata': {'split': Value(dtype='string', id=None),\n  'round': Value(dtype='int32', id=None),\n  'subset': Value(dtype='string', id=None),\n  'model_in_the_loop': Value(dtype='string', id=None)}}"
     },
     "execution_count": 32,
     "metadata": {},
     "output_type": "execute_result"
    }
   ],
   "source": [
    "dataset['train'].features"
   ]
  },
  {
   "cell_type": "code",
   "execution_count": 33,
   "metadata": {
    "ExecuteTime": {
     "start_time": "2023-04-08T14:04:23.551280Z",
     "end_time": "2023-04-08T14:04:23.664148Z"
    }
   },
   "outputs": [
    {
     "name": "stderr",
     "output_type": "stream",
     "text": [
      "Loading cached processed dataset at /Users/mykolaskrynnyk/.cache/huggingface/datasets/dynabench___dynasent/dynabench.dynasent.r2.all/1.1.0/ab89971d9ae1aacc59ed44d6855bf0e89167417257e2c2666f38e532148f2967/cache-ff06baae2c44b0df.arrow\n",
      "Loading cached processed dataset at /Users/mykolaskrynnyk/.cache/huggingface/datasets/dynabench___dynasent/dynabench.dynasent.r2.all/1.1.0/ab89971d9ae1aacc59ed44d6855bf0e89167417257e2c2666f38e532148f2967/cache-5a4381739f08aed4.arrow\n",
      "Loading cached processed dataset at /Users/mykolaskrynnyk/.cache/huggingface/datasets/dynabench___dynasent/dynabench.dynasent.r2.all/1.1.0/ab89971d9ae1aacc59ed44d6855bf0e89167417257e2c2666f38e532148f2967/cache-64f188eec4e17895.arrow\n"
     ]
    },
    {
     "data": {
      "text/plain": "DatasetDict({\n    train: Dataset({\n        features: ['text', 'label'],\n        num_rows: 13065\n    })\n    validation: Dataset({\n        features: ['text', 'label'],\n        num_rows: 720\n    })\n    test: Dataset({\n        features: ['text', 'label'],\n        num_rows: 720\n    })\n})"
     },
     "execution_count": 33,
     "metadata": {},
     "output_type": "execute_result"
    }
   ],
   "source": [
    "def recode_label(example: dict) -> dict:\n",
    "    mapping = {\n",
    "        'negative': 0,\n",
    "        'neutral': 1,\n",
    "        'positive': 2,\n",
    "    }\n",
    "    example['gold_label'] = mapping[example['gold_label']]\n",
    "    return example\n",
    "\n",
    "to_rename = {\n",
    "    'sentence': 'text',\n",
    "    'gold_label': 'label',\n",
    "}\n",
    "\n",
    "dataset = dataset.map(recode_label)\n",
    "for split_name in dataset:\n",
    "    dataset[split_name] = dataset[split_name].select_columns(list(to_rename)).rename_columns(to_rename)\n",
    "dataset"
   ]
  },
  {
   "cell_type": "code",
   "execution_count": 34,
   "outputs": [
    {
     "name": "stdout",
     "output_type": "stream",
     "text": [
      "{'label': ClassLabel(names=['Negative', 'Neutral', 'Positive'], id=None),\n",
      " 'text': Value(dtype='string', id=None)}\n"
     ]
    },
    {
     "data": {
      "text/plain": "Map:   0%|          | 0/13065 [00:00<?, ? examples/s]",
      "application/vnd.jupyter.widget-view+json": {
       "version_major": 2,
       "version_minor": 0,
       "model_id": "d455c19089704adb810db9c6a5b6862f"
      }
     },
     "metadata": {},
     "output_type": "display_data"
    },
    {
     "data": {
      "text/plain": "Map:   0%|          | 0/720 [00:00<?, ? examples/s]",
      "application/vnd.jupyter.widget-view+json": {
       "version_major": 2,
       "version_minor": 0,
       "model_id": "efb9bf178a024dfb84a093b3fc75b975"
      }
     },
     "metadata": {},
     "output_type": "display_data"
    },
    {
     "data": {
      "text/plain": "Map:   0%|          | 0/720 [00:00<?, ? examples/s]",
      "application/vnd.jupyter.widget-view+json": {
       "version_major": 2,
       "version_minor": 0,
       "model_id": "c332c217020e4c72bb4c880fd8e5833f"
      }
     },
     "metadata": {},
     "output_type": "display_data"
    },
    {
     "data": {
      "text/plain": "Map (num_proc=4):   0%|          | 0/13065 [00:00<?, ? examples/s]",
      "application/vnd.jupyter.widget-view+json": {
       "version_major": 2,
       "version_minor": 0,
       "model_id": "6e8b13eb851049acb8e8df3842eb9758"
      }
     },
     "metadata": {},
     "output_type": "display_data"
    },
    {
     "data": {
      "text/plain": "Map (num_proc=4):   0%|          | 0/720 [00:00<?, ? examples/s]",
      "application/vnd.jupyter.widget-view+json": {
       "version_major": 2,
       "version_minor": 0,
       "model_id": "5db5225190c949a5a01206bd3b8d6843"
      }
     },
     "metadata": {},
     "output_type": "display_data"
    },
    {
     "data": {
      "text/plain": "Map (num_proc=4):   0%|          | 0/720 [00:00<?, ? examples/s]",
      "application/vnd.jupyter.widget-view+json": {
       "version_major": 2,
       "version_minor": 0,
       "model_id": "0c7bd992f458448f81c106f99dae6ee2"
      }
     },
     "metadata": {},
     "output_type": "display_data"
    },
    {
     "name": "stderr",
     "output_type": "stream",
     "text": [
      "409it [00:00, 3833.29it/s]"
     ]
    },
    {
     "name": "stdout",
     "output_type": "stream",
     "text": [
      "Phrase count: 1,749\n"
     ]
    },
    {
     "name": "stderr",
     "output_type": "stream",
     "text": [
      "\n"
     ]
    },
    {
     "data": {
      "text/plain": "Map:   0%|          | 0/13065 [00:00<?, ? examples/s]",
      "application/vnd.jupyter.widget-view+json": {
       "version_major": 2,
       "version_minor": 0,
       "model_id": "11563d94acab4c00b919e20ce3d70fcb"
      }
     },
     "metadata": {},
     "output_type": "display_data"
    },
    {
     "data": {
      "text/plain": "Map:   0%|          | 0/720 [00:00<?, ? examples/s]",
      "application/vnd.jupyter.widget-view+json": {
       "version_major": 2,
       "version_minor": 0,
       "model_id": "82c7d45b9fa949b0bd8d99187a4576bc"
      }
     },
     "metadata": {},
     "output_type": "display_data"
    },
    {
     "data": {
      "text/plain": "Map:   0%|          | 0/720 [00:00<?, ? examples/s]",
      "application/vnd.jupyter.widget-view+json": {
       "version_major": 2,
       "version_minor": 0,
       "model_id": "f61f25080de0423e9ec798864b210b81"
      }
     },
     "metadata": {},
     "output_type": "display_data"
    },
    {
     "name": "stdout",
     "output_type": "stream",
     "text": [
      "Class count: 3\n",
      "Label   \tTrain\tTest\tSupport (Train)\n",
      "Positive\t46.22%\t33.33%\t6,038\n",
      "Negative\t35.05%\t33.33%\t4,579\n",
      "Neutral \t18.74%\t33.33%\t2,448\n"
     ]
    },
    {
     "data": {
      "text/plain": "DatasetDict({\n    train: Dataset({\n        features: ['text', 'label', 'text_clean'],\n        num_rows: 13065\n    })\n    validation: Dataset({\n        features: ['text', 'label', 'text_clean'],\n        num_rows: 720\n    })\n    test: Dataset({\n        features: ['text', 'label', 'text_clean'],\n        num_rows: 720\n    })\n})"
     },
     "execution_count": 34,
     "metadata": {},
     "output_type": "execute_result"
    }
   ],
   "source": [
    "dataset_name = dataset_name.replace('/', '_').lower()\n",
    "dataset = src.preparation.preprocess_dataset(\n",
    "    dataset_dict=dataset,\n",
    "    class_names=['Negative', 'Neutral', 'Positive'],\n",
    "    undersample_test=False,\n",
    "    nlp=nlp,\n",
    "    phrases_save_path=SAVE_PATH_PHRASES.joinpath(f'phrases_{dataset_name}.pkl'),\n",
    "    verbose=True\n",
    ")\n",
    "dataset"
   ],
   "metadata": {
    "collapsed": false,
    "ExecuteTime": {
     "start_time": "2023-04-08T14:04:24.672325Z",
     "end_time": "2023-04-08T14:04:35.081354Z"
    }
   }
  },
  {
   "cell_type": "code",
   "execution_count": 35,
   "metadata": {
    "ExecuteTime": {
     "start_time": "2023-04-08T14:04:34.920589Z",
     "end_time": "2023-04-08T14:04:35.081639Z"
    }
   },
   "outputs": [
    {
     "name": "stdout",
     "output_type": "stream",
     "text": [
      "{'label': 2,\n",
      " 'text': 'We enjoyed our first and last meal in Toronto at Bombay Palace, and '\n",
      "         \"I can't think of a better way to book our journey.\",\n",
      " 'text_clean': 'enjoy first and last meal and think well way book journey'}\n"
     ]
    }
   ],
   "source": [
    "pprint(dataset['train'][0])"
   ]
  },
  {
   "cell_type": "code",
   "execution_count": 36,
   "metadata": {
    "ExecuteTime": {
     "start_time": "2023-04-08T14:04:34.920700Z",
     "end_time": "2023-04-08T14:04:35.082238Z"
    }
   },
   "outputs": [
    {
     "data": {
      "text/plain": "Saving the dataset (0/1 shards):   0%|          | 0/13065 [00:00<?, ? examples/s]",
      "application/vnd.jupyter.widget-view+json": {
       "version_major": 2,
       "version_minor": 0,
       "model_id": "389f8c37f9a747d7acbb5715d61894fe"
      }
     },
     "metadata": {},
     "output_type": "display_data"
    },
    {
     "data": {
      "text/plain": "Saving the dataset (0/1 shards):   0%|          | 0/720 [00:00<?, ? examples/s]",
      "application/vnd.jupyter.widget-view+json": {
       "version_major": 2,
       "version_minor": 0,
       "model_id": "ab2cec02a35c4106806152b8ffb5c685"
      }
     },
     "metadata": {},
     "output_type": "display_data"
    },
    {
     "data": {
      "text/plain": "Saving the dataset (0/1 shards):   0%|          | 0/720 [00:00<?, ? examples/s]",
      "application/vnd.jupyter.widget-view+json": {
       "version_major": 2,
       "version_minor": 0,
       "model_id": "f74b2fec50a9482b891b3ecb66c46781"
      }
     },
     "metadata": {},
     "output_type": "display_data"
    }
   ],
   "source": [
    "path = SAVE_PATH_DATASET.joinpath(f'{dataset_name}_processed')\n",
    "dataset.save_to_disk(path)"
   ]
  },
  {
   "cell_type": "markdown",
   "metadata": {},
   "source": [
    "## VII. AG News\n",
    "\n",
    "**Source:** [Hugging Face Datasets](https://huggingface.co/datasets/ag_news)\n",
    "**Task:** News Categorisation\n",
    "**Training Size:** 120,000\n",
    "**Testing Size:** 7,600\n",
    "**Target:** Multiclass (4 classes)"
   ]
  },
  {
   "cell_type": "code",
   "execution_count": 8,
   "metadata": {
    "ExecuteTime": {
     "start_time": "2023-04-09T16:51:43.535811Z",
     "end_time": "2023-04-09T16:51:45.220642Z"
    }
   },
   "outputs": [
    {
     "name": "stderr",
     "output_type": "stream",
     "text": [
      "Found cached dataset ag_news (/Users/mykolaskrynnyk/.cache/huggingface/datasets/ag_news/default/0.0.0/bc2bcb40336ace1a0374767fc29bb0296cdaf8a6da7298436239c54d79180548)\n"
     ]
    },
    {
     "data": {
      "text/plain": "  0%|          | 0/2 [00:00<?, ?it/s]",
      "application/vnd.jupyter.widget-view+json": {
       "version_major": 2,
       "version_minor": 0,
       "model_id": "2982f7227de44c9b8ffb994801afccb5"
      }
     },
     "metadata": {},
     "output_type": "display_data"
    },
    {
     "data": {
      "text/plain": "DatasetDict({\n    train: Dataset({\n        features: ['text', 'label'],\n        num_rows: 120000\n    })\n    test: Dataset({\n        features: ['text', 'label'],\n        num_rows: 7600\n    })\n})"
     },
     "execution_count": 8,
     "metadata": {},
     "output_type": "execute_result"
    }
   ],
   "source": [
    "dataset_name = 'ag_news'\n",
    "dataset = load_dataset(dataset_name)\n",
    "dataset"
   ]
  },
  {
   "cell_type": "code",
   "execution_count": 9,
   "metadata": {
    "ExecuteTime": {
     "start_time": "2023-04-09T16:51:45.221273Z",
     "end_time": "2023-04-09T16:51:45.267320Z"
    }
   },
   "outputs": [
    {
     "data": {
      "text/plain": "{'text': Value(dtype='string', id=None),\n 'label': ClassLabel(names=['World', 'Sports', 'Business', 'Sci/Tech'], id=None)}"
     },
     "execution_count": 9,
     "metadata": {},
     "output_type": "execute_result"
    }
   ],
   "source": [
    "dataset['train'].features"
   ]
  },
  {
   "cell_type": "code",
   "execution_count": 10,
   "outputs": [
    {
     "name": "stdout",
     "output_type": "stream",
     "text": [
      "{'label': ClassLabel(names=['World', 'Sports', 'Business', 'Sci/Tech'], id=None),\n",
      " 'text': Value(dtype='string', id=None)}\n"
     ]
    },
    {
     "data": {
      "text/plain": "Map:   0%|          | 0/120000 [00:00<?, ? examples/s]",
      "application/vnd.jupyter.widget-view+json": {
       "version_major": 2,
       "version_minor": 0,
       "model_id": "987f71f41b2b480da0ed44a2858fd7a3"
      }
     },
     "metadata": {},
     "output_type": "display_data"
    },
    {
     "data": {
      "text/plain": "Map:   0%|          | 0/7600 [00:00<?, ? examples/s]",
      "application/vnd.jupyter.widget-view+json": {
       "version_major": 2,
       "version_minor": 0,
       "model_id": "000ec26e41c347978eeac292a0409785"
      }
     },
     "metadata": {},
     "output_type": "display_data"
    },
    {
     "data": {
      "text/plain": "Map (num_proc=4):   0%|          | 0/120000 [00:00<?, ? examples/s]",
      "application/vnd.jupyter.widget-view+json": {
       "version_major": 2,
       "version_minor": 0,
       "model_id": "c516b4e622cc44eb8f4d540691317270"
      }
     },
     "metadata": {},
     "output_type": "display_data"
    },
    {
     "data": {
      "text/plain": "Map (num_proc=4):   0%|          | 0/7600 [00:00<?, ? examples/s]",
      "application/vnd.jupyter.widget-view+json": {
       "version_major": 2,
       "version_minor": 0,
       "model_id": "eaccfc093d4c4780acfcf4841959c1ce"
      }
     },
     "metadata": {},
     "output_type": "display_data"
    },
    {
     "name": "stderr",
     "output_type": "stream",
     "text": [
      "3750it [00:03, 1044.31it/s]\n"
     ]
    },
    {
     "name": "stdout",
     "output_type": "stream",
     "text": [
      "Phrase count: 3,486\n"
     ]
    },
    {
     "data": {
      "text/plain": "Map:   0%|          | 0/120000 [00:00<?, ? examples/s]",
      "application/vnd.jupyter.widget-view+json": {
       "version_major": 2,
       "version_minor": 0,
       "model_id": "e7e0fea86e1e4c2d80411a5eba8b6e21"
      }
     },
     "metadata": {},
     "output_type": "display_data"
    },
    {
     "data": {
      "text/plain": "Map:   0%|          | 0/7600 [00:00<?, ? examples/s]",
      "application/vnd.jupyter.widget-view+json": {
       "version_major": 2,
       "version_minor": 0,
       "model_id": "0ce45df7e9db44e99a3f0e88c4d25011"
      }
     },
     "metadata": {},
     "output_type": "display_data"
    },
    {
     "name": "stdout",
     "output_type": "stream",
     "text": [
      "Class count: 4\n",
      "Label   \tTrain\tTest\tSupport (Train)\n",
      "Business\t25.00%\t25.00%\t30,000\n",
      "Sci/Tech\t25.00%\t25.00%\t30,000\n",
      "Sports  \t25.00%\t25.00%\t30,000\n",
      "World   \t25.00%\t25.00%\t30,000\n"
     ]
    },
    {
     "data": {
      "text/plain": "DatasetDict({\n    train: Dataset({\n        features: ['text', 'label', 'text_clean'],\n        num_rows: 120000\n    })\n    test: Dataset({\n        features: ['text', 'label', 'text_clean'],\n        num_rows: 7600\n    })\n})"
     },
     "execution_count": 10,
     "metadata": {},
     "output_type": "execute_result"
    }
   ],
   "source": [
    "dataset_name = dataset_name.replace('/', '_').lower()\n",
    "dataset = src.preparation.preprocess_dataset(\n",
    "    dataset_dict=dataset,\n",
    "    class_names=None,  # do not apply any transformations to existing class names\n",
    "    undersample_test=False,\n",
    "    nlp=nlp,\n",
    "    phrases_save_path=SAVE_PATH_PHRASES.joinpath(f'phrases_{dataset_name}.pkl'),\n",
    "    verbose=True\n",
    ")\n",
    "dataset"
   ],
   "metadata": {
    "collapsed": false,
    "ExecuteTime": {
     "start_time": "2023-04-09T16:51:45.674149Z",
     "end_time": "2023-04-09T16:54:15.975686Z"
    }
   }
  },
  {
   "cell_type": "code",
   "execution_count": 11,
   "metadata": {
    "ExecuteTime": {
     "start_time": "2023-04-09T16:54:15.975347Z",
     "end_time": "2023-04-09T16:54:15.981284Z"
    }
   },
   "outputs": [
    {
     "name": "stdout",
     "output_type": "stream",
     "text": [
      "{'label': 2,\n",
      " 'text': 'Wall St. Bears Claw Back Into the Black (Reuters) Reuters - '\n",
      "         \"Short-sellers, Wall Street's dwindling\\\\band of ultra-cynics, are \"\n",
      "         'seeing green again.',\n",
      " 'text_clean': 'seller ultra cynic see green'}\n"
     ]
    }
   ],
   "source": [
    "pprint(dataset['train'][0])"
   ]
  },
  {
   "cell_type": "code",
   "execution_count": 12,
   "metadata": {
    "ExecuteTime": {
     "start_time": "2023-04-09T16:54:16.064872Z",
     "end_time": "2023-04-09T16:54:16.070450Z"
    }
   },
   "outputs": [
    {
     "name": "stdout",
     "output_type": "stream",
     "text": [
      "Class count: 4\n",
      "Label   \tTrain\tTest\tSupport (Train)\n",
      "Business\t25.00%\t25.00%\t30,000\n",
      "Sci/Tech\t25.00%\t25.00%\t30,000\n",
      "Sports  \t25.00%\t25.00%\t30,000\n",
      "World   \t25.00%\t25.00%\t30,000\n"
     ]
    }
   ],
   "source": [
    "src.preparation.utils.describe_labels(dataset)"
   ]
  },
  {
   "cell_type": "code",
   "execution_count": 13,
   "metadata": {
    "ExecuteTime": {
     "start_time": "2023-04-09T16:54:16.068359Z",
     "end_time": "2023-04-09T16:54:16.136269Z"
    }
   },
   "outputs": [
    {
     "data": {
      "text/plain": "Saving the dataset (0/1 shards):   0%|          | 0/120000 [00:00<?, ? examples/s]",
      "application/vnd.jupyter.widget-view+json": {
       "version_major": 2,
       "version_minor": 0,
       "model_id": "034da3f9dcfd4156867a293b32271d8a"
      }
     },
     "metadata": {},
     "output_type": "display_data"
    },
    {
     "data": {
      "text/plain": "Saving the dataset (0/1 shards):   0%|          | 0/7600 [00:00<?, ? examples/s]",
      "application/vnd.jupyter.widget-view+json": {
       "version_major": 2,
       "version_minor": 0,
       "model_id": "ec04e9d6adf34f28a3769df68b598e66"
      }
     },
     "metadata": {},
     "output_type": "display_data"
    }
   ],
   "source": [
    "path = SAVE_PATH_DATASET.joinpath(f'{dataset_name}_processed')\n",
    "dataset.save_to_disk(path)"
   ]
  },
  {
   "cell_type": "markdown",
   "metadata": {},
   "source": [
    "## VIII. 20 Newsgroups\n",
    "\n",
    "**Source:** [scikit-learn datasets](https://scikit-learn.org/stable/datasets/real_world.html#the-20-newsgroups-text-dataset)\n",
    "**Task:** News Categorisation\n",
    "**Training Size:** 11,314\n",
    "**Testing Size:** 7,532\n",
    "**Target:** Multiclass (15 classes)"
   ]
  },
  {
   "cell_type": "code",
   "execution_count": 2,
   "outputs": [],
   "source": [
    "dataset_name = '20_newsgroups'"
   ],
   "metadata": {
    "collapsed": false,
    "ExecuteTime": {
     "start_time": "2023-04-16T01:27:19.396914Z",
     "end_time": "2023-04-16T01:27:19.407566Z"
    }
   }
  },
  {
   "cell_type": "code",
   "execution_count": 3,
   "metadata": {
    "ExecuteTime": {
     "start_time": "2023-04-16T01:27:19.915768Z",
     "end_time": "2023-04-16T01:27:19.920622Z"
    }
   },
   "outputs": [],
   "source": [
    "mapping = {\n",
    "    'comp.graphics': 'Computer Graphics',\n",
    "    'comp.os.ms-windows.misc': 'Computer Operating System MS-Windows',\n",
    "    'comp.sys.ibm.pc.hardware': 'Computer Systems IBM PC Hardware',\n",
    "    'comp.sys.mac.hardware': 'Computer Systems Mac Hardware',\n",
    "    'comp.windows.x': 'Computer Windows X',\n",
    "    'rec.autos': 'Automobiles',\n",
    "    'rec.motorcycles': 'Motorcycles',\n",
    "    'rec.sport.baseball': 'Sports Baseball',\n",
    "    'rec.sport.hockey': 'Sports Hockey',\n",
    "    'sci.crypt': 'Cryptography',\n",
    "    'sci.electronics': 'Electronics',\n",
    "    'sci.med': 'Science Medicine',\n",
    "    'sci.space': 'Science Space',\n",
    "    'misc.forsale': 'Miscellaneous For Sale',\n",
    "    'talk.politics.misc': 'Talk Politics Miscellaneous',\n",
    "    'talk.politics.guns': 'Talk Politics Guns',\n",
    "    'talk.politics.mideast': 'Talk Politics Middle East',\n",
    "    'talk.religion.misc': 'Talk Religion Miscellaneous',\n",
    "    'alt.atheism': 'Atheism',\n",
    "    'soc.religion.christian': 'Religion Christian',\n",
    "}"
   ]
  },
  {
   "cell_type": "code",
   "execution_count": 4,
   "metadata": {
    "ExecuteTime": {
     "start_time": "2023-04-16T01:27:28.018837Z",
     "end_time": "2023-04-16T01:27:28.187423Z"
    }
   },
   "outputs": [
    {
     "name": "stdout",
     "output_type": "stream",
     "text": [
      "{'label': 1,\n",
      " 'text': \"From: lerxst@wam.umd.edu (where's my thing)\\n\"\n",
      "         'Subject: WHAT car is this!?\\n'\n",
      "         'Nntp-Posting-Host: rac3.wam.umd.edu\\n'\n",
      "         'Organization: University of Maryland, College Park\\n'\n",
      "         'Lines: 15\\n'\n",
      "         '\\n'\n",
      "         ' I was wondering if anyone out there could enlighten me on this car '\n",
      "         'I saw\\n'\n",
      "         'the other day. It was a 2-door sports car, looked to be from the '\n",
      "         'late 60s/\\n'\n",
      "         'early 70s. It was called a Bricklin. The doors were really small. In '\n",
      "         'addition,\\n'\n",
      "         'the front bumper was separate from the rest of the body. This is \\n'\n",
      "         'all I know. If anyone can tellme a model name, engine specs, years\\n'\n",
      "         'of production, where this car is made, history, or whatever info '\n",
      "         'you\\n'\n",
      "         'have on this funky looking car, please e-mail.\\n'\n",
      "         '\\n'\n",
      "         'Thanks,\\n'\n",
      "         '- IL\\n'\n",
      "         '   ---- brought to you by your neighborhood Lerxst ----\\n'\n",
      "         '\\n'\n",
      "         '\\n'\n",
      "         '\\n'\n",
      "         '\\n'}\n"
     ]
    }
   ],
   "source": [
    "bunch = fetch_20newsgroups(subset='train')\n",
    "examples_train = src.preparation.newsgroups.consturct_dataset(bunch, mapping)\n",
    "pprint(examples_train[0])"
   ]
  },
  {
   "cell_type": "code",
   "execution_count": 5,
   "metadata": {
    "ExecuteTime": {
     "start_time": "2023-04-16T01:27:29.018399Z",
     "end_time": "2023-04-16T01:27:29.175416Z"
    }
   },
   "outputs": [],
   "source": [
    "bunch = fetch_20newsgroups(subset='test')\n",
    "examples_test = src.preparation.newsgroups.consturct_dataset(bunch, mapping)"
   ]
  },
  {
   "cell_type": "code",
   "execution_count": 6,
   "metadata": {
    "ExecuteTime": {
     "start_time": "2023-04-16T01:27:29.751189Z",
     "end_time": "2023-04-16T01:27:29.787508Z"
    }
   },
   "outputs": [
    {
     "data": {
      "text/plain": "DatasetDict({\n    train: Dataset({\n        features: ['text', 'label'],\n        num_rows: 11314\n    })\n    test: Dataset({\n        features: ['text', 'label'],\n        num_rows: 7532\n    })\n})"
     },
     "execution_count": 6,
     "metadata": {},
     "output_type": "execute_result"
    }
   ],
   "source": [
    "dataset = DatasetDict(\n",
    "    train=Dataset.from_list(examples_train),\n",
    "    test=Dataset.from_list(examples_test)\n",
    ")\n",
    "dataset"
   ]
  },
  {
   "cell_type": "code",
   "execution_count": 7,
   "outputs": [
    {
     "data": {
      "text/plain": "{'text': Value(dtype='string', id=None),\n 'label': Value(dtype='int64', id=None)}"
     },
     "execution_count": 7,
     "metadata": {},
     "output_type": "execute_result"
    }
   ],
   "source": [
    "dataset['train'].features"
   ],
   "metadata": {
    "collapsed": false,
    "ExecuteTime": {
     "start_time": "2023-04-16T01:27:30.660325Z",
     "end_time": "2023-04-16T01:27:30.667144Z"
    }
   }
  },
  {
   "cell_type": "code",
   "execution_count": 8,
   "metadata": {
    "ExecuteTime": {
     "start_time": "2023-04-16T01:27:31.125119Z",
     "end_time": "2023-04-16T01:30:51.534860Z"
    }
   },
   "outputs": [
    {
     "name": "stdout",
     "output_type": "stream",
     "text": [
      "{'label': ClassLabel(names=['Atheism', 'Automobiles', 'Computer Graphics', 'Computer Operating System MS-Windows', 'Computer Systems IBM PC Hardware', 'Computer Systems Mac Hardware', 'Computer Windows X', 'Cryptography', 'Electronics', 'Miscellaneous For Sale', 'Motorcycles', 'Religion Christian', 'Science Medicine', 'Science Space', 'Sports Baseball', 'Sports Hockey', 'Talk Politics Guns', 'Talk Politics Middle East', 'Talk Politics Miscellaneous', 'Talk Religion Miscellaneous'], id=None),\n",
      " 'text': Value(dtype='string', id=None)}\n"
     ]
    },
    {
     "data": {
      "text/plain": "Map:   0%|          | 0/11314 [00:00<?, ? examples/s]",
      "application/vnd.jupyter.widget-view+json": {
       "version_major": 2,
       "version_minor": 0,
       "model_id": "3b6ae7f4a413474894e5d13735a41033"
      }
     },
     "metadata": {},
     "output_type": "display_data"
    },
    {
     "data": {
      "text/plain": "Map:   0%|          | 0/7532 [00:00<?, ? examples/s]",
      "application/vnd.jupyter.widget-view+json": {
       "version_major": 2,
       "version_minor": 0,
       "model_id": "3cfdea72199e4001aed6746a4b9649f7"
      }
     },
     "metadata": {},
     "output_type": "display_data"
    },
    {
     "data": {
      "text/plain": "Map (num_proc=4):   0%|          | 0/11314 [00:00<?, ? examples/s]",
      "application/vnd.jupyter.widget-view+json": {
       "version_major": 2,
       "version_minor": 0,
       "model_id": "45359bbf072e446d8a30e5af7ed122b9"
      }
     },
     "metadata": {},
     "output_type": "display_data"
    },
    {
     "data": {
      "text/plain": "Map (num_proc=4):   0%|          | 0/7532 [00:00<?, ? examples/s]",
      "application/vnd.jupyter.widget-view+json": {
       "version_major": 2,
       "version_minor": 0,
       "model_id": "3274e72568244aa69d090fdd6deb7bc6"
      }
     },
     "metadata": {},
     "output_type": "display_data"
    },
    {
     "name": "stderr",
     "output_type": "stream",
     "text": [
      "354it [00:01, 212.32it/s]"
     ]
    },
    {
     "name": "stdout",
     "output_type": "stream",
     "text": [
      "Phrase count: 1,487\n"
     ]
    },
    {
     "name": "stderr",
     "output_type": "stream",
     "text": [
      "\n"
     ]
    },
    {
     "data": {
      "text/plain": "Map:   0%|          | 0/11314 [00:00<?, ? examples/s]",
      "application/vnd.jupyter.widget-view+json": {
       "version_major": 2,
       "version_minor": 0,
       "model_id": "8a13ac7939a8414882d9ccf0f6a4bd92"
      }
     },
     "metadata": {},
     "output_type": "display_data"
    },
    {
     "data": {
      "text/plain": "Map:   0%|          | 0/7532 [00:00<?, ? examples/s]",
      "application/vnd.jupyter.widget-view+json": {
       "version_major": 2,
       "version_minor": 0,
       "model_id": "d3e3c0618628451ba8febd8833772699"
      }
     },
     "metadata": {},
     "output_type": "display_data"
    },
    {
     "name": "stdout",
     "output_type": "stream",
     "text": [
      "Class count: 20\n",
      "Label                               \tTrain\tTest\tSupport (Train)\n",
      "Sports Hockey                       \t5.30%\t5.30%\t600\n",
      "Religion Christian                  \t5.29%\t5.28%\t599\n",
      "Motorcycles                         \t5.29%\t5.28%\t598\n",
      "Sports Baseball                     \t5.28%\t5.27%\t597\n",
      "Cryptography                        \t5.26%\t5.26%\t595\n",
      "Automobiles                         \t5.25%\t5.26%\t594\n",
      "Science Medicine                    \t5.25%\t5.26%\t594\n",
      "Science Space                       \t5.24%\t5.23%\t593\n",
      "Computer Windows X                  \t5.24%\t5.24%\t593\n",
      "Computer Operating System MS-Windows\t5.22%\t5.23%\t591\n",
      "Electronics                         \t5.22%\t5.22%\t591\n",
      "Computer Systems IBM PC Hardware    \t5.21%\t5.20%\t590\n",
      "Miscellaneous For Sale              \t5.17%\t5.18%\t585\n",
      "Computer Graphics                   \t5.16%\t5.16%\t584\n",
      "Computer Systems Mac Hardware       \t5.11%\t5.11%\t578\n",
      "Talk Politics Middle East           \t4.98%\t4.99%\t564\n",
      "Talk Politics Guns                  \t4.83%\t4.83%\t546\n",
      "Atheism                             \t4.24%\t4.24%\t480\n",
      "Talk Politics Miscellaneous         \t4.11%\t4.12%\t465\n",
      "Talk Religion Miscellaneous         \t3.33%\t3.33%\t377\n"
     ]
    },
    {
     "data": {
      "text/plain": "DatasetDict({\n    train: Dataset({\n        features: ['text', 'label', 'text_clean'],\n        num_rows: 11314\n    })\n    test: Dataset({\n        features: ['text', 'label', 'text_clean'],\n        num_rows: 7532\n    })\n})"
     },
     "execution_count": 8,
     "metadata": {},
     "output_type": "execute_result"
    }
   ],
   "source": [
    "dataset = src.preparation.preprocess_dataset(\n",
    "    dataset_dict=dataset,\n",
    "    class_names=sorted(set(mapping.values())),\n",
    "    undersample_test=False,\n",
    "    nlp=nlp,\n",
    "    phrases_save_path=SAVE_PATH_PHRASES.joinpath(f'phrases_{dataset_name}.pkl'),\n",
    "    verbose=True\n",
    ")\n",
    "dataset"
   ]
  },
  {
   "cell_type": "code",
   "execution_count": 9,
   "metadata": {
    "ExecuteTime": {
     "start_time": "2023-04-16T01:30:51.536577Z",
     "end_time": "2023-04-16T01:30:51.586740Z"
    }
   },
   "outputs": [
    {
     "data": {
      "text/plain": "Saving the dataset (0/1 shards):   0%|          | 0/11314 [00:00<?, ? examples/s]",
      "application/vnd.jupyter.widget-view+json": {
       "version_major": 2,
       "version_minor": 0,
       "model_id": "066a5706822a4a90b80cc9935afd86cb"
      }
     },
     "metadata": {},
     "output_type": "display_data"
    },
    {
     "data": {
      "text/plain": "Saving the dataset (0/1 shards):   0%|          | 0/7532 [00:00<?, ? examples/s]",
      "application/vnd.jupyter.widget-view+json": {
       "version_major": 2,
       "version_minor": 0,
       "model_id": "577d883f39aa47ea8371e7129d693c4e"
      }
     },
     "metadata": {},
     "output_type": "display_data"
    }
   ],
   "source": [
    "path = SAVE_PATH_DATASET.joinpath(f'{dataset_name}_processed')\n",
    "dataset.save_to_disk(path)"
   ]
  },
  {
   "cell_type": "markdown",
   "metadata": {},
   "source": [
    "## IX. Web of Science\n",
    "\n",
    "**Source:** [Mendeley Data](https://data.mendeley.com/datasets/9rw3vkcfy4/6)\n",
    "**Task:** Topic Classification\n",
    "**Training Size:** 37,589\n",
    "**Testing Size:** 9,396\n",
    "**Target:** Multiclass (15 classes)"
   ]
  },
  {
   "cell_type": "code",
   "execution_count": 22,
   "outputs": [],
   "source": [
    "dataset_name = 'web_of_science'"
   ],
   "metadata": {
    "collapsed": false,
    "ExecuteTime": {
     "start_time": "2023-04-09T16:57:30.379162Z",
     "end_time": "2023-04-09T16:57:30.385230Z"
    }
   }
  },
  {
   "cell_type": "code",
   "execution_count": 23,
   "metadata": {
    "ExecuteTime": {
     "start_time": "2023-04-09T16:57:30.380644Z",
     "end_time": "2023-04-09T16:58:32.680637Z"
    }
   },
   "outputs": [
    {
     "name": "stderr",
     "output_type": "stream",
     "text": [
      "  % Total    % Received % Xferd  Average Speed   Time    Time     Time  Current\n",
      "                                 Dload  Upload   Total   Spent    Left  Speed\n",
      "100 57.4M  100 57.4M    0     0   961k      0  0:01:01  0:01:01 --:--:--  733k\n"
     ]
    },
    {
     "name": "stdout",
     "output_type": "stream",
     "text": [
      "Archive:  9rw3vkcfy4-6.zip\n",
      "  inflating: WebOfScience.zip        \n",
      "Archive:  WebOfScience.zip\n",
      "  inflating: ../data/raw/web_of_science/Dictionary.txt  \n",
      "  inflating: ../data/raw/web_of_science/Meta-data/Data.xlsx  \n",
      "  inflating: ../data/raw/web_of_science/WOS11967/X.txt  \n",
      "  inflating: ../data/raw/web_of_science/WOS11967/Y.txt  \n",
      "  inflating: ../data/raw/web_of_science/WOS11967/YL1.txt  \n",
      "  inflating: ../data/raw/web_of_science/WOS11967/YL2.txt  \n",
      "  inflating: ../data/raw/web_of_science/WOS46985/X.txt  \n",
      "  inflating: ../data/raw/web_of_science/WOS46985/Y.txt  \n",
      "  inflating: ../data/raw/web_of_science/WOS46985/YL1.txt  \n",
      "  inflating: ../data/raw/web_of_science/WOS46985/YL2.txt  \n",
      "  inflating: ../data/raw/web_of_science/WOS5736/X.txt  \n",
      "  inflating: ../data/raw/web_of_science/WOS5736/Y.txt  \n",
      "  inflating: ../data/raw/web_of_science/WOS5736/YL1.txt  \n",
      "  inflating: ../data/raw/web_of_science/WOS5736/YL2.txt  \n"
     ]
    }
   ],
   "source": [
    "%%bash\n",
    "\n",
    "export filename=\"9rw3vkcfy4-6.zip\"\n",
    "curl -O https://prod-dcd-datasets-cache-zipfiles.s3.eu-west-1.amazonaws.com/$filename\n",
    "unzip -o $filename \"WebOfScience.zip\"\n",
    "rm $filename\n",
    "\n",
    "export filename=\"WebOfScience.zip\"\n",
    "unzip -o $filename -d ../data/raw/web_of_science\n",
    "rm $filename"
   ]
  },
  {
   "cell_type": "code",
   "execution_count": 24,
   "metadata": {
    "ExecuteTime": {
     "start_time": "2023-04-09T16:58:32.682052Z",
     "end_time": "2023-04-09T16:58:35.721045Z"
    }
   },
   "outputs": [
    {
     "name": "stdout",
     "output_type": "stream",
     "text": [
      "Shape: (46985, 7)\n"
     ]
    },
    {
     "data": {
      "text/plain": "   Y1  Y2    Y    Domain                     area  \\\n0   0  12   12       CS    Symbolic computation     \n1   5   2   74  Medical     Alzheimer's Disease     \n2   4   7   68    Civil          Green Building     \n3   1  10   26      ECE          Electric motor     \n4   5  43  115  Medical     Parkinson's Disease     \n\n                                            keywords  \\\n0   (2+1)-dimensional non-linear optical waves; e...   \n1   Aging; Tau; Amyloid; PET; Alzheimer's disease...   \n2   LED lighting system; PV system; Distributed l...   \n3   NdFeB magnets; Electric motor; Electric vehic...   \n4   Parkinson's disease; dyskinesia; adenosine A(...   \n\n                                            Abstract  \n0  (2 + 1)-dimensional non-linear optical waves t...  \n1  (beta-amyloid (A beta) and tau pathology becom...  \n2  (D)ecreasing of energy consumption and environ...  \n3  (Hybrid) electric vehicles are assumed to play...  \n4  (L)-3,4-Dihydroxyphenylalanine ((L)-DOPA) rema...  ",
      "text/html": "<div>\n<style scoped>\n    .dataframe tbody tr th:only-of-type {\n        vertical-align: middle;\n    }\n\n    .dataframe tbody tr th {\n        vertical-align: top;\n    }\n\n    .dataframe thead th {\n        text-align: right;\n    }\n</style>\n<table border=\"1\" class=\"dataframe\">\n  <thead>\n    <tr style=\"text-align: right;\">\n      <th></th>\n      <th>Y1</th>\n      <th>Y2</th>\n      <th>Y</th>\n      <th>Domain</th>\n      <th>area</th>\n      <th>keywords</th>\n      <th>Abstract</th>\n    </tr>\n  </thead>\n  <tbody>\n    <tr>\n      <th>0</th>\n      <td>0</td>\n      <td>12</td>\n      <td>12</td>\n      <td>CS</td>\n      <td>Symbolic computation</td>\n      <td>(2+1)-dimensional non-linear optical waves; e...</td>\n      <td>(2 + 1)-dimensional non-linear optical waves t...</td>\n    </tr>\n    <tr>\n      <th>1</th>\n      <td>5</td>\n      <td>2</td>\n      <td>74</td>\n      <td>Medical</td>\n      <td>Alzheimer's Disease</td>\n      <td>Aging; Tau; Amyloid; PET; Alzheimer's disease...</td>\n      <td>(beta-amyloid (A beta) and tau pathology becom...</td>\n    </tr>\n    <tr>\n      <th>2</th>\n      <td>4</td>\n      <td>7</td>\n      <td>68</td>\n      <td>Civil</td>\n      <td>Green Building</td>\n      <td>LED lighting system; PV system; Distributed l...</td>\n      <td>(D)ecreasing of energy consumption and environ...</td>\n    </tr>\n    <tr>\n      <th>3</th>\n      <td>1</td>\n      <td>10</td>\n      <td>26</td>\n      <td>ECE</td>\n      <td>Electric motor</td>\n      <td>NdFeB magnets; Electric motor; Electric vehic...</td>\n      <td>(Hybrid) electric vehicles are assumed to play...</td>\n    </tr>\n    <tr>\n      <th>4</th>\n      <td>5</td>\n      <td>43</td>\n      <td>115</td>\n      <td>Medical</td>\n      <td>Parkinson's Disease</td>\n      <td>Parkinson's disease; dyskinesia; adenosine A(...</td>\n      <td>(L)-3,4-Dihydroxyphenylalanine ((L)-DOPA) rema...</td>\n    </tr>\n  </tbody>\n</table>\n</div>"
     },
     "metadata": {},
     "output_type": "display_data"
    }
   ],
   "source": [
    "path = os.path.join(os.pardir, 'data', 'raw', 'web_of_science', 'Meta-data', 'Data.xlsx')\n",
    "df_data = pd.read_excel(path)\n",
    "print('Shape:', df_data.shape)\n",
    "display(df_data.head())"
   ]
  },
  {
   "cell_type": "code",
   "execution_count": 25,
   "metadata": {
    "ExecuteTime": {
     "start_time": "2023-04-09T16:58:35.721699Z",
     "end_time": "2023-04-09T16:58:35.933059Z"
    }
   },
   "outputs": [
    {
     "data": {
      "text/plain": "Y1              7\nY2             53\nY             134\nDomain          7\narea          143\nkeywords    46835\nAbstract    46985\ndtype: int64"
     },
     "execution_count": 25,
     "metadata": {},
     "output_type": "execute_result"
    }
   ],
   "source": [
    "# some Y area incorrectly mapped to several areas\n",
    "df_data.nunique()"
   ]
  },
  {
   "cell_type": "code",
   "execution_count": 26,
   "metadata": {
    "ExecuteTime": {
     "start_time": "2023-04-09T16:58:35.934247Z",
     "end_time": "2023-04-09T16:58:35.963712Z"
    }
   },
   "outputs": [
    {
     "name": "stdout",
     "output_type": "stream",
     "text": [
      "Shape: (134, 2)\n"
     ]
    },
    {
     "data": {
      "text/plain": "                                                  area        \n                                               Counter nunique\nY                                                             \n71   {' Smart Material  ': 363, ' Transparent Concr...       3\n76   {' Anxiety  ': 262, ' Bamboo as a Building Mat...       2\n89   {' Digestive Health  ': 95, ' Outdoor Health  ...       2\n65   {' Water Pollution  ': 446, ' Underwater Windm...       2\n25   {' Electrical generator  ': 240, ' Analog sign...       2\n62   {' Geotextile  ': 419, ' Highway Network Syste...       2\n126  {' Cell biology  ': 552, ' DNA/RNA sequencing ...       2\n26   {' Electric motor  ': 372, ' Single-phase elec...       2\n93                                {' Headache  ': 341}       1\n90                 {' Emergency Contraception  ': 291}       1",
      "text/html": "<div>\n<style scoped>\n    .dataframe tbody tr th:only-of-type {\n        vertical-align: middle;\n    }\n\n    .dataframe tbody tr th {\n        vertical-align: top;\n    }\n\n    .dataframe thead tr th {\n        text-align: left;\n    }\n\n    .dataframe thead tr:last-of-type th {\n        text-align: right;\n    }\n</style>\n<table border=\"1\" class=\"dataframe\">\n  <thead>\n    <tr>\n      <th></th>\n      <th colspan=\"2\" halign=\"left\">area</th>\n    </tr>\n    <tr>\n      <th></th>\n      <th>Counter</th>\n      <th>nunique</th>\n    </tr>\n    <tr>\n      <th>Y</th>\n      <th></th>\n      <th></th>\n    </tr>\n  </thead>\n  <tbody>\n    <tr>\n      <th>71</th>\n      <td>{' Smart Material  ': 363, ' Transparent Concr...</td>\n      <td>3</td>\n    </tr>\n    <tr>\n      <th>76</th>\n      <td>{' Anxiety  ': 262, ' Bamboo as a Building Mat...</td>\n      <td>2</td>\n    </tr>\n    <tr>\n      <th>89</th>\n      <td>{' Digestive Health  ': 95, ' Outdoor Health  ...</td>\n      <td>2</td>\n    </tr>\n    <tr>\n      <th>65</th>\n      <td>{' Water Pollution  ': 446, ' Underwater Windm...</td>\n      <td>2</td>\n    </tr>\n    <tr>\n      <th>25</th>\n      <td>{' Electrical generator  ': 240, ' Analog sign...</td>\n      <td>2</td>\n    </tr>\n    <tr>\n      <th>62</th>\n      <td>{' Geotextile  ': 419, ' Highway Network Syste...</td>\n      <td>2</td>\n    </tr>\n    <tr>\n      <th>126</th>\n      <td>{' Cell biology  ': 552, ' DNA/RNA sequencing ...</td>\n      <td>2</td>\n    </tr>\n    <tr>\n      <th>26</th>\n      <td>{' Electric motor  ': 372, ' Single-phase elec...</td>\n      <td>2</td>\n    </tr>\n    <tr>\n      <th>93</th>\n      <td>{' Headache  ': 341}</td>\n      <td>1</td>\n    </tr>\n    <tr>\n      <th>90</th>\n      <td>{' Emergency Contraception  ': 291}</td>\n      <td>1</td>\n    </tr>\n  </tbody>\n</table>\n</div>"
     },
     "metadata": {},
     "output_type": "display_data"
    }
   ],
   "source": [
    "df_labels = df_data.groupby('Y')\\\n",
    "    .agg({'area': [Counter, 'nunique']})\\\n",
    "    .sort_values(('area', 'nunique'), ascending=False)\n",
    "print('Shape:', df_labels.shape)\n",
    "display(df_labels.head(10))"
   ]
  },
  {
   "cell_type": "code",
   "execution_count": 27,
   "metadata": {
    "ExecuteTime": {
     "start_time": "2023-04-09T16:58:35.955055Z",
     "end_time": "2023-04-09T16:58:35.983355Z"
    }
   },
   "outputs": [
    {
     "data": {
      "text/plain": "'Smart Material'"
     },
     "execution_count": 27,
     "metadata": {},
     "output_type": "execute_result"
    }
   ],
   "source": [
    "# for a few cases where multiple area labels are mapped to a single area id, use the most common label\n",
    "mapping = df_labels[('area', 'Counter')].apply(lambda counter: counter.most_common()[0][0].strip()).to_dict()\n",
    "mapping[71]"
   ]
  },
  {
   "cell_type": "code",
   "execution_count": 28,
   "metadata": {
    "ExecuteTime": {
     "start_time": "2023-04-09T16:58:35.958287Z",
     "end_time": "2023-04-09T16:58:36.043248Z"
    }
   },
   "outputs": [],
   "source": [
    "df_data['area'] = df_data['Y'].replace(mapping)"
   ]
  },
  {
   "cell_type": "code",
   "execution_count": 29,
   "metadata": {
    "ExecuteTime": {
     "start_time": "2023-04-09T16:58:36.014837Z",
     "end_time": "2023-04-09T16:58:36.053965Z"
    }
   },
   "outputs": [
    {
     "name": "stdout",
     "output_type": "stream",
     "text": [
      "Shape train: (37589, 7)\n",
      "Shape test: (9396, 7)\n"
     ]
    },
    {
     "data": {
      "text/plain": "       Y1  Y2   Y Domain                  area  \\\n44776   0   5   5    CS      Computer graphics   \n16132   0   6   6    CS       Image processing   \n11087   0  14  14    CS   Computer programming   \n45262   0   4   4    CS      Operating systems   \n41099   0   2   2    CS       network security   \n\n                                                keywords  \\\n44776   Glyph; Video visualization; Traffic surveilla...   \n16132   Human target; Micro-Doppler; Time-frequency a...   \n11087   Dyslexia; Computer programming; Inclusion    ...   \n45262   Software - Software systems; Software - Syste...   \n41099   Probing; Malware; Darknet preprocessing; Big ...   \n\n                                                Abstract  \n44776  Video visualization (VV) is considered to be a...  \n16132  Human target characteristic parameter extracti...  \n11087  Computer programmers with dyslexia can be foun...  \n45262  We describe and evaluate a software-only imple...  \n41099  This paper presents a new approach to infer wo...  ",
      "text/html": "<div>\n<style scoped>\n    .dataframe tbody tr th:only-of-type {\n        vertical-align: middle;\n    }\n\n    .dataframe tbody tr th {\n        vertical-align: top;\n    }\n\n    .dataframe thead th {\n        text-align: right;\n    }\n</style>\n<table border=\"1\" class=\"dataframe\">\n  <thead>\n    <tr style=\"text-align: right;\">\n      <th></th>\n      <th>Y1</th>\n      <th>Y2</th>\n      <th>Y</th>\n      <th>Domain</th>\n      <th>area</th>\n      <th>keywords</th>\n      <th>Abstract</th>\n    </tr>\n  </thead>\n  <tbody>\n    <tr>\n      <th>44776</th>\n      <td>0</td>\n      <td>5</td>\n      <td>5</td>\n      <td>CS</td>\n      <td>Computer graphics</td>\n      <td>Glyph; Video visualization; Traffic surveilla...</td>\n      <td>Video visualization (VV) is considered to be a...</td>\n    </tr>\n    <tr>\n      <th>16132</th>\n      <td>0</td>\n      <td>6</td>\n      <td>6</td>\n      <td>CS</td>\n      <td>Image processing</td>\n      <td>Human target; Micro-Doppler; Time-frequency a...</td>\n      <td>Human target characteristic parameter extracti...</td>\n    </tr>\n    <tr>\n      <th>11087</th>\n      <td>0</td>\n      <td>14</td>\n      <td>14</td>\n      <td>CS</td>\n      <td>Computer programming</td>\n      <td>Dyslexia; Computer programming; Inclusion    ...</td>\n      <td>Computer programmers with dyslexia can be foun...</td>\n    </tr>\n    <tr>\n      <th>45262</th>\n      <td>0</td>\n      <td>4</td>\n      <td>4</td>\n      <td>CS</td>\n      <td>Operating systems</td>\n      <td>Software - Software systems; Software - Syste...</td>\n      <td>We describe and evaluate a software-only imple...</td>\n    </tr>\n    <tr>\n      <th>41099</th>\n      <td>0</td>\n      <td>2</td>\n      <td>2</td>\n      <td>CS</td>\n      <td>network security</td>\n      <td>Probing; Malware; Darknet preprocessing; Big ...</td>\n      <td>This paper presents a new approach to infer wo...</td>\n    </tr>\n  </tbody>\n</table>\n</div>"
     },
     "metadata": {},
     "output_type": "display_data"
    }
   ],
   "source": [
    "df_train = df_data.groupby('Domain').sample(frac=.8, random_state=42)\n",
    "df_test = df_data.drop(df_train.index, axis=0)\n",
    "print('Shape train:', df_train.shape)\n",
    "print('Shape test:', df_test.shape)\n",
    "display(df_train.head())"
   ]
  },
  {
   "cell_type": "code",
   "execution_count": 30,
   "metadata": {
    "ExecuteTime": {
     "start_time": "2023-04-09T16:58:36.037741Z",
     "end_time": "2023-04-09T16:58:36.054159Z"
    }
   },
   "outputs": [
    {
     "data": {
      "text/plain": "                          train  test\nPolymerase chain reaction  1.6%  1.6%\nMolecular biology          1.6%  1.7%\nNorthern blotting          1.5%  1.5%\nImmunology                 1.4%  1.2%\nAnalog signal processing   1.4%  1.4%\n...                         ...   ...\nDigestive Health           0.2%  0.2%\nKidney Health              0.2%  0.2%\nVoltage law                0.1%  0.1%\nStructured Storage         0.1%  0.1%\nLorentz force law          0.1%  0.1%\n\n[134 rows x 2 columns]",
      "text/html": "<div>\n<style scoped>\n    .dataframe tbody tr th:only-of-type {\n        vertical-align: middle;\n    }\n\n    .dataframe tbody tr th {\n        vertical-align: top;\n    }\n\n    .dataframe thead th {\n        text-align: right;\n    }\n</style>\n<table border=\"1\" class=\"dataframe\">\n  <thead>\n    <tr style=\"text-align: right;\">\n      <th></th>\n      <th>train</th>\n      <th>test</th>\n    </tr>\n  </thead>\n  <tbody>\n    <tr>\n      <th>Polymerase chain reaction</th>\n      <td>1.6%</td>\n      <td>1.6%</td>\n    </tr>\n    <tr>\n      <th>Molecular biology</th>\n      <td>1.6%</td>\n      <td>1.7%</td>\n    </tr>\n    <tr>\n      <th>Northern blotting</th>\n      <td>1.5%</td>\n      <td>1.5%</td>\n    </tr>\n    <tr>\n      <th>Immunology</th>\n      <td>1.4%</td>\n      <td>1.2%</td>\n    </tr>\n    <tr>\n      <th>Analog signal processing</th>\n      <td>1.4%</td>\n      <td>1.4%</td>\n    </tr>\n    <tr>\n      <th>...</th>\n      <td>...</td>\n      <td>...</td>\n    </tr>\n    <tr>\n      <th>Digestive Health</th>\n      <td>0.2%</td>\n      <td>0.2%</td>\n    </tr>\n    <tr>\n      <th>Kidney Health</th>\n      <td>0.2%</td>\n      <td>0.2%</td>\n    </tr>\n    <tr>\n      <th>Voltage law</th>\n      <td>0.1%</td>\n      <td>0.1%</td>\n    </tr>\n    <tr>\n      <th>Structured Storage</th>\n      <td>0.1%</td>\n      <td>0.1%</td>\n    </tr>\n    <tr>\n      <th>Lorentz force law</th>\n      <td>0.1%</td>\n      <td>0.1%</td>\n    </tr>\n  </tbody>\n</table>\n<p>134 rows × 2 columns</p>\n</div>"
     },
     "execution_count": 30,
     "metadata": {},
     "output_type": "execute_result"
    }
   ],
   "source": [
    "pd.concat(\n",
    "    objs=[\n",
    "        df_train['area'].value_counts(normalize=True).rename('train'),\n",
    "        df_test['area'].value_counts(normalize=True).rename('test'),\n",
    "    ],\n",
    "    axis=1\n",
    ").multiply(100).round(1).astype(str).add('%')"
   ]
  },
  {
   "cell_type": "code",
   "execution_count": 31,
   "metadata": {
    "ExecuteTime": {
     "start_time": "2023-04-09T16:58:36.047767Z",
     "end_time": "2023-04-09T16:58:36.136693Z"
    }
   },
   "outputs": [
    {
     "name": "stdout",
     "output_type": "stream",
     "text": [
      "{'label': 'Computer graphics',\n",
      " 'text': 'Video visualization (VV) is considered to be an essential part of '\n",
      "         'multimedia visual analytics. Many challenges have arisen from the '\n",
      "         'enormous video content of cameras which can be solved with the help '\n",
      "         'of data analytics and hence gaining importance. However, the rapid '\n",
      "         'advancement of digital technologies has resulted in an explosion of '\n",
      "         'video data, which stimulates the needs for creating computer '\n",
      "         'graphics and visualization from videos. Particularly, in the '\n",
      "         'paradigm of smart cities, video surveillance as a widely applied '\n",
      "         'technology can generate huge amount of videos from 24/7 '\n",
      "         'surveillance. In this paper, a state of the art algorithm has been '\n",
      "         'proposed for 3D conversion from traffic video content to Google Map. '\n",
      "         'Time-stamped glyph-based visualization is used effectively in '\n",
      "         'outdoor surveillance videos and can be used for event-aware '\n",
      "         'detection. This form of traffic visualization can potentially reduce '\n",
      "         'the data complexity, having holistic view from larger collection of '\n",
      "         'videos. The efficacy of the proposed scheme has been shown by '\n",
      "         'acquiring several unprocessed surveillance videos and by testing our '\n",
      "         'algorithm on them without their pertaining field conditions. '\n",
      "         'Experimental results show that the proposed visualization technique '\n",
      "         'produces promising results and found effective in conveying '\n",
      "         'meaningful information while alleviating the need of searching '\n",
      "         'exhaustively colossal amount of video data.'}\n"
     ]
    }
   ],
   "source": [
    "to_rename = {\n",
    "    'Abstract': 'text',\n",
    "    'area': 'label'\n",
    "}\n",
    "\n",
    "examples_train = df_train.reindex(to_rename, axis=1).rename(to_rename, axis=1).to_dict(orient='records')\n",
    "examples_test = df_test.reindex(to_rename, axis=1).rename(to_rename, axis=1).to_dict(orient='records')\n",
    "pprint(examples_train[0])"
   ]
  },
  {
   "cell_type": "code",
   "execution_count": 32,
   "metadata": {
    "ExecuteTime": {
     "start_time": "2023-04-09T16:58:36.126087Z",
     "end_time": "2023-04-09T16:58:36.184917Z"
    }
   },
   "outputs": [
    {
     "data": {
      "text/plain": "DatasetDict({\n    train: Dataset({\n        features: ['text', 'label'],\n        num_rows: 37589\n    })\n    test: Dataset({\n        features: ['text', 'label'],\n        num_rows: 9396\n    })\n})"
     },
     "execution_count": 32,
     "metadata": {},
     "output_type": "execute_result"
    }
   ],
   "source": [
    "dataset = DatasetDict(\n",
    "    train=Dataset.from_list(examples_train),\n",
    "    test=Dataset.from_list(examples_test),\n",
    ")\n",
    "dataset"
   ]
  },
  {
   "cell_type": "code",
   "execution_count": 33,
   "outputs": [
    {
     "data": {
      "text/plain": "{'text': Value(dtype='string', id=None),\n 'label': Value(dtype='string', id=None)}"
     },
     "execution_count": 33,
     "metadata": {},
     "output_type": "execute_result"
    }
   ],
   "source": [
    "dataset['train'].features"
   ],
   "metadata": {
    "collapsed": false,
    "ExecuteTime": {
     "start_time": "2023-04-09T16:58:36.157677Z",
     "end_time": "2023-04-09T16:58:36.191225Z"
    }
   }
  },
  {
   "cell_type": "code",
   "execution_count": 34,
   "outputs": [
    {
     "data": {
      "text/plain": "Map:   0%|          | 0/37589 [00:00<?, ? examples/s]",
      "application/vnd.jupyter.widget-view+json": {
       "version_major": 2,
       "version_minor": 0,
       "model_id": "2eb0ada38cd84104905a1528b9c90e23"
      }
     },
     "metadata": {},
     "output_type": "display_data"
    },
    {
     "data": {
      "text/plain": "Map:   0%|          | 0/9396 [00:00<?, ? examples/s]",
      "application/vnd.jupyter.widget-view+json": {
       "version_major": 2,
       "version_minor": 0,
       "model_id": "739866a4759e4ab6a139698a3c7afb96"
      }
     },
     "metadata": {},
     "output_type": "display_data"
    }
   ],
   "source": [
    "def recode_labels(example: dict, class_names: list[str]) -> dict:\n",
    "    example['label'] = class_names.index(example['label'])\n",
    "    return example\n",
    "class_names = sorted(df_train['area'].unique())\n",
    "dataset = dataset.map(function=recode_labels, fn_kwargs={'class_names': class_names})"
   ],
   "metadata": {
    "collapsed": false,
    "ExecuteTime": {
     "start_time": "2023-04-09T16:58:36.161255Z",
     "end_time": "2023-04-09T16:58:36.775608Z"
    }
   }
  },
  {
   "cell_type": "code",
   "execution_count": 35,
   "outputs": [
    {
     "name": "stdout",
     "output_type": "stream",
     "text": [
      "{'label': ClassLabel(names=['Addiction', 'Algorithm design', 'Allergies', \"Alzheimer's Disease\", 'Ambient Intelligence', 'Analog signal processing', 'Ankylosing Spondylitis', 'Antisocial personality disorder', 'Anxiety', 'Asthma', 'Atopic Dermatitis', 'Atrial Fibrillation', 'Attention', 'Autism', 'Bioinformatics', 'Bipolar Disorder', 'Birth Control', 'Borderline personality disorder', 'Cancer', 'Cell biology', 'Child abuse', \"Children's Health\", 'Computer graphics', 'Computer programming', 'Computer vision', 'Construction Management', 'Control engineering', \"Crohn's Disease\", 'Cryptography', 'Data structures', 'Dementia', 'Depression', 'Diabetes', 'Digestive Health', 'Digital control', 'Distributed computing', 'Eating disorders', 'Electric motor', 'Electrical circuits', 'Electrical network', 'Electricity', 'Emergency Contraception', 'Enzymology', 'False memories', 'Fluid mechanics', 'Fungal Infection', 'Gender roles', 'Genetics', 'Geotextile', 'Green Building', 'HIV/AIDS', 'Headache', 'Healthy Sleep', 'Heart Disease', 'Hepatitis C', 'Hereditary Angioedema', 'Human Metabolism', 'Hydraulics', 'Hypothyroidism', 'Idiopathic Pulmonary Fibrosis', 'Image processing', 'Immunology', 'Internal combustion engine', 'Irritable Bowel Syndrome', 'Kidney Health', 'Leadership', 'Lorentz force law', 'Low Testosterone', 'Lymphoma', 'Machine design', 'Machine learning', 'Manufacturing engineering', 'Materials Engineering', 'Media violence', 'Medicare', 'Menopause', 'Mental Health', 'Microcontroller', 'Migraine', 'Molecular biology', 'Multiple Sclerosis', 'Myelofibrosis', 'Nonverbal communication', 'Northern blotting', 'Operating systems', 'Operational amplifier', 'Osteoarthritis', 'Osteoporosis', 'Overactive Bladder', 'PID controller', 'Parallel computing', 'Parenting', \"Parkinson's Disease\", 'Person perception', 'Polycythemia Vera', 'Polymerase chain reaction', 'Prejudice', 'Prenatal development', 'Problem-solving', 'Prosocial behavior', 'Psoriasis', 'Psoriatic Arthritis', 'Rainwater Harvesting', 'Relational databases', 'Remote Sensing', 'Rheumatoid Arthritis', 'Satellite radio', 'Schizophrenia', 'Seasonal affective disorder', 'Senior Health', 'Signal-flow graph', 'Skin Care', 'Smart Material', 'Smoking Cessation', 'Social cognition', 'Software engineering', 'Solar Energy', 'Southern blotting', 'Sports Injuries', 'Sprains and Strains', 'State space representation', 'Stealth Technology', 'Strength of materials', 'Stress Management', 'Structured Storage', 'Suspension Bridge', 'Symbolic computation', 'System identification', 'Thermodynamics', 'Voltage law', 'Water Pollution', 'Weight Loss', 'computer-aided design', 'network security'], id=None),\n",
      " 'text': Value(dtype='string', id=None)}\n"
     ]
    },
    {
     "data": {
      "text/plain": "Map:   0%|          | 0/37589 [00:00<?, ? examples/s]",
      "application/vnd.jupyter.widget-view+json": {
       "version_major": 2,
       "version_minor": 0,
       "model_id": "c54d4130ca9c4cb68242b155ea378dd7"
      }
     },
     "metadata": {},
     "output_type": "display_data"
    },
    {
     "data": {
      "text/plain": "Map:   0%|          | 0/9396 [00:00<?, ? examples/s]",
      "application/vnd.jupyter.widget-view+json": {
       "version_major": 2,
       "version_minor": 0,
       "model_id": "864eb6a87ae44340a1bae62b1b547417"
      }
     },
     "metadata": {},
     "output_type": "display_data"
    },
    {
     "data": {
      "text/plain": "Map (num_proc=4):   0%|          | 0/37589 [00:00<?, ? examples/s]",
      "application/vnd.jupyter.widget-view+json": {
       "version_major": 2,
       "version_minor": 0,
       "model_id": "4ccbd37e09214382b796ae37f089e201"
      }
     },
     "metadata": {},
     "output_type": "display_data"
    },
    {
     "data": {
      "text/plain": "Map (num_proc=4):   0%|          | 0/9396 [00:00<?, ? examples/s]",
      "application/vnd.jupyter.widget-view+json": {
       "version_major": 2,
       "version_minor": 0,
       "model_id": "79d727bb2d594c2197186990e897b227"
      }
     },
     "metadata": {},
     "output_type": "display_data"
    },
    {
     "name": "stderr",
     "output_type": "stream",
     "text": [
      "1175it [00:04, 235.34it/s]\n"
     ]
    },
    {
     "name": "stdout",
     "output_type": "stream",
     "text": [
      "Phrase count: 3,321\n"
     ]
    },
    {
     "data": {
      "text/plain": "Map:   0%|          | 0/37589 [00:00<?, ? examples/s]",
      "application/vnd.jupyter.widget-view+json": {
       "version_major": 2,
       "version_minor": 0,
       "model_id": "732209adc0e043d6830b1ba5091beefa"
      }
     },
     "metadata": {},
     "output_type": "display_data"
    },
    {
     "data": {
      "text/plain": "Map:   0%|          | 0/9396 [00:00<?, ? examples/s]",
      "application/vnd.jupyter.widget-view+json": {
       "version_major": 2,
       "version_minor": 0,
       "model_id": "f038df14092649df95c5868ba429cffa"
      }
     },
     "metadata": {},
     "output_type": "display_data"
    },
    {
     "name": "stdout",
     "output_type": "stream",
     "text": [
      "Class count: 134\n",
      "Label                          \tTrain\tTest\tSupport (Train)\n",
      "Polymerase chain reaction      \t1.60%\t1.59%\t601\n",
      "Molecular biology              \t1.56%\t1.71%\t585\n",
      "Northern blotting              \t1.48%\t1.52%\t556\n",
      "Immunology                     \t1.44%\t1.17%\t542\n",
      "Analog signal processing       \t1.37%\t1.39%\t516\n",
      "Human Metabolism               \t1.31%\t1.39%\t491\n",
      "Enzymology                     \t1.22%\t1.27%\t457\n",
      "Cell biology                   \t1.21%\t1.17%\t456\n",
      "Genetics                       \t1.18%\t1.29%\t445\n",
      "Southern blotting              \t1.11%\t0.99%\t417\n",
      "Depression                     \t1.05%\t1.25%\t393\n",
      "Water Pollution                \t0.99%\t0.81%\t371\n",
      "Parallel computing             \t0.97%\t0.82%\t366\n",
      "Electricity                    \t0.96%\t0.93%\t360\n",
      "Operational amplifier          \t0.95%\t0.66%\t357\n",
      "Rainwater Harvesting           \t0.94%\t0.95%\t352\n",
      "Digital control                \t0.94%\t0.79%\t352\n",
      "Social cognition               \t0.93%\t0.52%\t348\n",
      "Ambient Intelligence           \t0.92%\t0.68%\t346\n",
      "Computer programming           \t0.92%\t0.85%\t345\n",
      "network security               \t0.92%\t1.06%\t345\n",
      "Computer vision                \t0.92%\t0.94%\t344\n",
      "Computer graphics              \t0.91%\t0.74%\t342\n",
      "Machine design                 \t0.91%\t0.83%\t342\n",
      "Software engineering           \t0.90%\t0.84%\t337\n",
      "Gender roles                   \t0.88%\t0.68%\t331\n",
      "Hydraulics                     \t0.88%\t0.78%\t329\n",
      "Attention                      \t0.88%\t0.93%\t329\n",
      "Green Building                 \t0.87%\t0.96%\t328\n",
      "System identification          \t0.87%\t0.96%\t327\n",
      "Construction Management        \t0.87%\t0.92%\t326\n",
      "Child abuse                    \t0.87%\t0.83%\t326\n",
      "Symbolic computation           \t0.86%\t0.82%\t325\n",
      "Geotextile                     \t0.86%\t1.05%\t324\n",
      "PID controller                 \t0.86%\t1.13%\t323\n",
      "Prosocial behavior             \t0.86%\t0.70%\t322\n",
      "Machine learning               \t0.85%\t0.82%\t321\n",
      "Microcontroller                \t0.85%\t1.00%\t319\n",
      "Nonverbal communication        \t0.84%\t0.83%\t316\n",
      "Image processing               \t0.84%\t1.06%\t315\n",
      "Cryptography                   \t0.84%\t0.78%\t314\n",
      "Data structures                \t0.83%\t0.85%\t312\n",
      "Suspension Bridge              \t0.83%\t0.89%\t311\n",
      "Relational databases           \t0.82%\t0.72%\t309\n",
      "Remote Sensing                 \t0.82%\t0.80%\t309\n",
      "Solar Energy                   \t0.82%\t0.81%\t308\n",
      "Electric motor                 \t0.82%\t0.74%\t308\n",
      "Fluid mechanics                \t0.82%\t0.83%\t308\n",
      "Prejudice                      \t0.82%\t0.86%\t308\n",
      "Eating disorders               \t0.82%\t0.85%\t307\n",
      "Distributed computing          \t0.81%\t1.03%\t306\n",
      "Menopause                      \t0.81%\t0.71%\t304\n",
      "computer-aided design          \t0.81%\t0.72%\t303\n",
      "Sports Injuries                \t0.81%\t0.66%\t303\n",
      "Prenatal development           \t0.81%\t0.92%\t303\n",
      "Cancer                         \t0.80%\t0.61%\t302\n",
      "Operating systems              \t0.80%\t0.84%\t301\n",
      "Electrical circuits            \t0.80%\t0.79%\t301\n",
      "Electrical network             \t0.80%\t0.97%\t301\n",
      "Algorithm design               \t0.80%\t0.84%\t300\n",
      "Smart Material                 \t0.80%\t0.78%\t300\n",
      "Person perception              \t0.80%\t0.97%\t300\n",
      "Seasonal affective disorder    \t0.80%\t0.69%\t300\n",
      "Borderline personality disorder\t0.79%\t0.83%\t298\n",
      "False memories                 \t0.79%\t0.70%\t296\n",
      "Alzheimer's Disease            \t0.78%\t0.78%\t295\n",
      "Stress Management              \t0.78%\t0.70%\t295\n",
      "Antisocial personality disorder\t0.78%\t0.78%\t295\n",
      "Internal combustion engine     \t0.78%\t0.99%\t294\n",
      "Bioinformatics                 \t0.77%\t0.79%\t291\n",
      "Allergies                      \t0.76%\t0.74%\t287\n",
      "Fungal Infection               \t0.76%\t0.90%\t287\n",
      "State space representation     \t0.76%\t0.64%\t284\n",
      "Thermodynamics                 \t0.76%\t0.82%\t284\n",
      "Problem-solving                \t0.76%\t0.81%\t284\n",
      "Schizophrenia                  \t0.75%\t0.97%\t282\n",
      "Headache                       \t0.74%\t0.65%\t280\n",
      "HIV/AIDS                       \t0.74%\t0.83%\t280\n",
      "Leadership                     \t0.74%\t0.74%\t280\n",
      "Manufacturing engineering      \t0.74%\t0.72%\t278\n",
      "Diabetes                       \t0.74%\t0.80%\t278\n",
      "Overactive Bladder             \t0.73%\t0.71%\t273\n",
      "Skin Care                      \t0.72%\t0.71%\t272\n",
      "Children's Health              \t0.72%\t0.85%\t270\n",
      "Irritable Bowel Syndrome       \t0.72%\t0.71%\t269\n",
      "Weight Loss                    \t0.71%\t0.63%\t268\n",
      "Strength of materials          \t0.71%\t0.72%\t267\n",
      "Birth Control                  \t0.71%\t0.72%\t267\n",
      "Ankylosing Spondylitis         \t0.70%\t0.61%\t264\n",
      "Osteoporosis                   \t0.69%\t0.63%\t261\n",
      "Parenting                      \t0.69%\t0.87%\t261\n",
      "Hypothyroidism                 \t0.68%\t0.62%\t257\n",
      "Asthma                         \t0.68%\t0.65%\t256\n",
      "Addiction                      \t0.66%\t0.66%\t247\n",
      "Autism                         \t0.66%\t0.66%\t247\n",
      "Osteoarthritis                 \t0.65%\t0.63%\t246\n",
      "Atrial Fibrillation            \t0.65%\t0.54%\t243\n",
      "Low Testosterone               \t0.65%\t0.66%\t243\n",
      "Heart Disease                  \t0.64%\t0.54%\t240\n",
      "Parkinson's Disease            \t0.62%\t0.68%\t234\n",
      "Materials Engineering          \t0.62%\t0.60%\t233\n",
      "Hepatitis C                    \t0.61%\t0.63%\t229\n",
      "Emergency Contraception        \t0.61%\t0.66%\t229\n",
      "Media violence                 \t0.60%\t0.73%\t227\n",
      "Signal-flow graph              \t0.60%\t0.52%\t225\n",
      "Control engineering            \t0.60%\t0.54%\t225\n",
      "Atopic Dermatitis              \t0.56%\t0.53%\t212\n",
      "Multiple Sclerosis             \t0.56%\t0.45%\t211\n",
      "Lymphoma                       \t0.56%\t0.62%\t209\n",
      "Medicare                       \t0.55%\t0.50%\t208\n",
      "Bipolar Disorder               \t0.54%\t0.60%\t204\n",
      "Smoking Cessation              \t0.54%\t0.57%\t203\n",
      "Anxiety                        \t0.52%\t0.74%\t194\n",
      "Dementia                       \t0.52%\t0.46%\t194\n",
      "Idiopathic Pulmonary Fibrosis  \t0.52%\t0.55%\t194\n",
      "Mental Health                  \t0.48%\t0.46%\t179\n",
      "Crohn's Disease                \t0.42%\t0.44%\t157\n",
      "Psoriatic Arthritis            \t0.42%\t0.49%\t156\n",
      "Rheumatoid Arthritis           \t0.40%\t0.39%\t151\n",
      "Myelofibrosis                  \t0.39%\t0.54%\t147\n",
      "Migraine                       \t0.38%\t0.39%\t141\n",
      "Hereditary Angioedema          \t0.35%\t0.53%\t132\n",
      "Polycythemia Vera              \t0.32%\t0.28%\t122\n",
      "Stealth Technology             \t0.30%\t0.37%\t113\n",
      "Sprains and Strains            \t0.30%\t0.33%\t111\n",
      "Satellite radio                \t0.28%\t0.44%\t107\n",
      "Psoriasis                      \t0.28%\t0.23%\t106\n",
      "Healthy Sleep                  \t0.26%\t0.32%\t99\n",
      "Senior Health                  \t0.26%\t0.22%\t97\n",
      "Digestive Health               \t0.22%\t0.16%\t82\n",
      "Kidney Health                  \t0.20%\t0.16%\t75\n",
      "Voltage law                    \t0.12%\t0.11%\t44\n",
      "Structured Storage             \t0.10%\t0.05%\t38\n",
      "Lorentz force law              \t0.10%\t0.07%\t37\n"
     ]
    },
    {
     "data": {
      "text/plain": "DatasetDict({\n    train: Dataset({\n        features: ['text', 'label', 'text_clean'],\n        num_rows: 37589\n    })\n    test: Dataset({\n        features: ['text', 'label', 'text_clean'],\n        num_rows: 9396\n    })\n})"
     },
     "execution_count": 35,
     "metadata": {},
     "output_type": "execute_result"
    }
   ],
   "source": [
    "dataset = src.preparation.preprocess_dataset(\n",
    "    dataset_dict=dataset,\n",
    "    class_names=class_names,\n",
    "    undersample_test=False,\n",
    "    nlp=nlp,\n",
    "    phrases_save_path=SAVE_PATH_PHRASES.joinpath(f'phrases_{dataset_name}.pkl'),\n",
    "    verbose=True\n",
    ")\n",
    "dataset"
   ],
   "metadata": {
    "collapsed": false,
    "ExecuteTime": {
     "start_time": "2023-04-09T16:58:37.075890Z",
     "end_time": "2023-04-09T17:02:36.285509Z"
    }
   }
  },
  {
   "cell_type": "code",
   "execution_count": 36,
   "metadata": {
    "ExecuteTime": {
     "start_time": "2023-04-09T17:02:36.286844Z",
     "end_time": "2023-04-09T17:02:36.289346Z"
    }
   },
   "outputs": [
    {
     "name": "stdout",
     "output_type": "stream",
     "text": [
      "{'label': 22,\n",
      " 'text': 'Video visualization (VV) is considered to be an essential part of '\n",
      "         'multimedia visual analytics. Many challenges have arisen from the '\n",
      "         'enormous video content of cameras which can be solved with the help '\n",
      "         'of data analytics and hence gaining importance. However, the rapid '\n",
      "         'advancement of digital technologies has resulted in an explosion of '\n",
      "         'video data, which stimulates the needs for creating computer '\n",
      "         'graphics and visualization from videos. Particularly, in the '\n",
      "         'paradigm of smart cities, video surveillance as a widely applied '\n",
      "         'technology can generate huge amount of videos from 24/7 '\n",
      "         'surveillance. In this paper, a state of the art algorithm has been '\n",
      "         'proposed for 3D conversion from traffic video content to Google Map. '\n",
      "         'Time-stamped glyph-based visualization is used effectively in '\n",
      "         'outdoor surveillance videos and can be used for event-aware '\n",
      "         'detection. This form of traffic visualization can potentially reduce '\n",
      "         'the data complexity, having holistic view from larger collection of '\n",
      "         'videos. The efficacy of the proposed scheme has been shown by '\n",
      "         'acquiring several unprocessed surveillance videos and by testing our '\n",
      "         'algorithm on them without their pertaining field conditions. '\n",
      "         'Experimental results show that the proposed visualization technique '\n",
      "         'produces promising results and found effective in conveying '\n",
      "         'meaningful information while alleviating the need of searching '\n",
      "         'exhaustively colossal amount of video data.',\n",
      " 'text_clean': 'video visualization consider essential part multimedia visual '\n",
      "               'analytic many challenge arise enormous video content camera '\n",
      "               'solve help data analytic and gain importance rapid advancement '\n",
      "               'digital technology result explosion video datum stimulate need '\n",
      "               'create computer_graphic and visualization video paradigm '\n",
      "               'smart_city video surveillance apply technology generate '\n",
      "               'huge_amount video surveillance paper state_art propose '\n",
      "               'conversion traffic video content time stamp glyph base '\n",
      "               'visualization use outdoor surveillance video and use event '\n",
      "               'aware detection form traffic visualization reduce datum '\n",
      "               'complexity have holistic view large collection video efficacy '\n",
      "               'propose_scheme show acquire several unprocessed surveillance '\n",
      "               'video and test pertain field condition experimental_result '\n",
      "               'show_that propose visualization technique produce promise '\n",
      "               'result and find effective convey meaningful information while '\n",
      "               'alleviate need search colossal amount video datum'}\n"
     ]
    }
   ],
   "source": [
    "pprint(dataset['train'][0])"
   ]
  },
  {
   "cell_type": "code",
   "execution_count": 37,
   "metadata": {
    "ExecuteTime": {
     "start_time": "2023-04-09T17:02:36.293438Z",
     "end_time": "2023-04-09T17:02:36.356586Z"
    }
   },
   "outputs": [
    {
     "data": {
      "text/plain": "Saving the dataset (0/1 shards):   0%|          | 0/37589 [00:00<?, ? examples/s]",
      "application/vnd.jupyter.widget-view+json": {
       "version_major": 2,
       "version_minor": 0,
       "model_id": "a5ab9d5d9506410c9fb4dbaefe62ecc2"
      }
     },
     "metadata": {},
     "output_type": "display_data"
    },
    {
     "data": {
      "text/plain": "Saving the dataset (0/1 shards):   0%|          | 0/9396 [00:00<?, ? examples/s]",
      "application/vnd.jupyter.widget-view+json": {
       "version_major": 2,
       "version_minor": 0,
       "model_id": "215c739824404b1e9a6329badce762d4"
      }
     },
     "metadata": {},
     "output_type": "display_data"
    }
   ],
   "source": [
    "path = SAVE_PATH_DATASET.joinpath(f'{dataset_name}_processed')\n",
    "dataset.save_to_disk(path)"
   ]
  },
  {
   "cell_type": "markdown",
   "metadata": {},
   "source": [
    "## X. DBPedia 14\n",
    "\n",
    "**Source:** [Hugging Face Datasets](https://huggingface.co/datasets/dbpedia_14)\n",
    "**Task:** Topic Classification\n",
    "**Training Size:** 560,000\n",
    "**Testing Size:** 7,000\n",
    "**Target:** Multiclass (14 classes)"
   ]
  },
  {
   "cell_type": "code",
   "execution_count": 65,
   "metadata": {
    "ExecuteTime": {
     "start_time": "2023-04-08T14:14:56.774205Z",
     "end_time": "2023-04-08T14:14:58.475145Z"
    }
   },
   "outputs": [
    {
     "name": "stderr",
     "output_type": "stream",
     "text": [
      "Found cached dataset dbpedia_14 (/Users/mykolaskrynnyk/.cache/huggingface/datasets/dbpedia_14/dbpedia_14/2.0.0/01dab9e10d969eadcdbc918be5a09c9190a24caeae33b10eee8f367a1e3f1f0c)\n"
     ]
    },
    {
     "data": {
      "text/plain": "  0%|          | 0/2 [00:00<?, ?it/s]",
      "application/vnd.jupyter.widget-view+json": {
       "version_major": 2,
       "version_minor": 0,
       "model_id": "d97424adb8fd4af0b77aa7ac0a04bff2"
      }
     },
     "metadata": {},
     "output_type": "display_data"
    },
    {
     "data": {
      "text/plain": "DatasetDict({\n    train: Dataset({\n        features: ['label', 'title', 'content'],\n        num_rows: 560000\n    })\n    test: Dataset({\n        features: ['label', 'title', 'content'],\n        num_rows: 70000\n    })\n})"
     },
     "execution_count": 65,
     "metadata": {},
     "output_type": "execute_result"
    }
   ],
   "source": [
    "dataset_name = 'dbpedia_14'\n",
    "dataset = load_dataset(dataset_name)\n",
    "dataset"
   ]
  },
  {
   "cell_type": "code",
   "execution_count": 66,
   "metadata": {
    "ExecuteTime": {
     "start_time": "2023-04-08T14:14:58.475430Z",
     "end_time": "2023-04-08T14:14:58.480893Z"
    }
   },
   "outputs": [],
   "source": [
    "dataset = dataset.remove_columns(['title']).rename_columns({'content': 'text'})"
   ]
  },
  {
   "cell_type": "code",
   "execution_count": 67,
   "metadata": {
    "ExecuteTime": {
     "start_time": "2023-04-08T14:14:58.481435Z",
     "end_time": "2023-04-08T14:14:58.484304Z"
    }
   },
   "outputs": [
    {
     "data": {
      "text/plain": "{'label': ClassLabel(names=['Company', 'EducationalInstitution', 'Artist', 'Athlete', 'OfficeHolder', 'MeanOfTransportation', 'Building', 'NaturalPlace', 'Village', 'Animal', 'Plant', 'Album', 'Film', 'WrittenWork'], id=None),\n 'text': Value(dtype='string', id=None)}"
     },
     "execution_count": 67,
     "metadata": {},
     "output_type": "execute_result"
    }
   ],
   "source": [
    "dataset['train'].features"
   ]
  },
  {
   "cell_type": "code",
   "execution_count": 68,
   "outputs": [
    {
     "name": "stderr",
     "output_type": "stream",
     "text": [
      "Loading cached split indices for dataset at /Users/mykolaskrynnyk/.cache/huggingface/datasets/dbpedia_14/dbpedia_14/2.0.0/01dab9e10d969eadcdbc918be5a09c9190a24caeae33b10eee8f367a1e3f1f0c/cache-0ca66c025b3b261f.arrow and /Users/mykolaskrynnyk/.cache/huggingface/datasets/dbpedia_14/dbpedia_14/2.0.0/01dab9e10d969eadcdbc918be5a09c9190a24caeae33b10eee8f367a1e3f1f0c/cache-bd49dd9ad0fc080b.arrow\n"
     ]
    },
    {
     "name": "stdout",
     "output_type": "stream",
     "text": [
      "{'label': ClassLabel(names=['Company', 'Educational Institution', 'Artist', 'Athlete', 'Office Holder', 'Mean Of Transportation', 'Building', 'Natural Place', 'Village', 'Animal', 'Plant', 'Album', 'Film', 'Written Work'], id=None),\n",
      " 'text': Value(dtype='string', id=None)}\n"
     ]
    },
    {
     "data": {
      "text/plain": "Map:   0%|          | 0/560000 [00:00<?, ? examples/s]",
      "application/vnd.jupyter.widget-view+json": {
       "version_major": 2,
       "version_minor": 0,
       "model_id": "a3eeda0b1dee43ef8827490c5ffe47fd"
      }
     },
     "metadata": {},
     "output_type": "display_data"
    },
    {
     "data": {
      "text/plain": "Map:   0%|          | 0/7000 [00:00<?, ? examples/s]",
      "application/vnd.jupyter.widget-view+json": {
       "version_major": 2,
       "version_minor": 0,
       "model_id": "2d3593fa34ba48db86e51ffdcef17751"
      }
     },
     "metadata": {},
     "output_type": "display_data"
    },
    {
     "data": {
      "text/plain": "Map (num_proc=4):   0%|          | 0/560000 [00:00<?, ? examples/s]",
      "application/vnd.jupyter.widget-view+json": {
       "version_major": 2,
       "version_minor": 0,
       "model_id": "049bd67da0104b0d86fb60ac882e78c2"
      }
     },
     "metadata": {},
     "output_type": "display_data"
    },
    {
     "data": {
      "text/plain": "Map (num_proc=4):   0%|          | 0/7000 [00:00<?, ? examples/s]",
      "application/vnd.jupyter.widget-view+json": {
       "version_major": 2,
       "version_minor": 0,
       "model_id": "1497350456d541838824c602762eede8"
      }
     },
     "metadata": {},
     "output_type": "display_data"
    },
    {
     "name": "stderr",
     "output_type": "stream",
     "text": [
      "17500it [00:11, 1542.37it/s]\n"
     ]
    },
    {
     "name": "stdout",
     "output_type": "stream",
     "text": [
      "Phrase count: 4,522\n"
     ]
    },
    {
     "data": {
      "text/plain": "Map:   0%|          | 0/560000 [00:00<?, ? examples/s]",
      "application/vnd.jupyter.widget-view+json": {
       "version_major": 2,
       "version_minor": 0,
       "model_id": "b381f88925bb4f959848ece38c40f6cb"
      }
     },
     "metadata": {},
     "output_type": "display_data"
    },
    {
     "data": {
      "text/plain": "Map:   0%|          | 0/7000 [00:00<?, ? examples/s]",
      "application/vnd.jupyter.widget-view+json": {
       "version_major": 2,
       "version_minor": 0,
       "model_id": "9281f02ca3c941e3bc77c3497de3e5dc"
      }
     },
     "metadata": {},
     "output_type": "display_data"
    },
    {
     "name": "stdout",
     "output_type": "stream",
     "text": [
      "Class count: 14\n",
      "Label                  \tTrain\tTest\tSupport (Train)\n",
      "Company                \t7.14%\t7.14%\t40,000\n",
      "Educational Institution\t7.14%\t7.14%\t40,000\n",
      "Artist                 \t7.14%\t7.14%\t40,000\n",
      "Athlete                \t7.14%\t7.14%\t40,000\n",
      "Office Holder          \t7.14%\t7.14%\t40,000\n",
      "Mean Of Transportation \t7.14%\t7.14%\t40,000\n",
      "Building               \t7.14%\t7.14%\t40,000\n",
      "Natural Place          \t7.14%\t7.14%\t40,000\n",
      "Village                \t7.14%\t7.14%\t40,000\n",
      "Animal                 \t7.14%\t7.14%\t40,000\n",
      "Plant                  \t7.14%\t7.14%\t40,000\n",
      "Album                  \t7.14%\t7.14%\t40,000\n",
      "Film                   \t7.14%\t7.14%\t40,000\n",
      "Written Work           \t7.14%\t7.14%\t40,000\n"
     ]
    },
    {
     "data": {
      "text/plain": "DatasetDict({\n    train: Dataset({\n        features: ['label', 'text', 'text_clean'],\n        num_rows: 560000\n    })\n    test: Dataset({\n        features: ['label', 'text', 'text_clean'],\n        num_rows: 7000\n    })\n})"
     },
     "execution_count": 68,
     "metadata": {},
     "output_type": "execute_result"
    }
   ],
   "source": [
    "dataset = src.preparation.preprocess_dataset(\n",
    "    dataset_dict=dataset,\n",
    "    class_names=[src.preparation.utils.split_camel_case(label) for label in dataset['train'].features['label'].names],\n",
    "    undersample_test=True,\n",
    "    nlp=nlp,\n",
    "    phrases_save_path=SAVE_PATH_PHRASES.joinpath(f'phrases_{dataset_name}.pkl'),\n",
    "    verbose=True\n",
    ")\n",
    "dataset"
   ],
   "metadata": {
    "collapsed": false,
    "ExecuteTime": {
     "start_time": "2023-04-08T14:14:58.486162Z",
     "end_time": "2023-04-08T14:27:31.910500Z"
    }
   }
  },
  {
   "cell_type": "code",
   "execution_count": 69,
   "metadata": {
    "ExecuteTime": {
     "start_time": "2023-04-08T14:27:31.911663Z",
     "end_time": "2023-04-08T14:27:31.913576Z"
    }
   },
   "outputs": [
    {
     "name": "stdout",
     "output_type": "stream",
     "text": [
      "{'label': 0,\n",
      " 'text': ' Abbott of Farnham E D Abbott Limited was a British coachbuilding '\n",
      "         'business based in Farnham Surrey trading under that name from 1929. '\n",
      "         'A major part of their output was under sub-contract to motor vehicle '\n",
      "         'manufacturers. Their business closed in 1972.',\n",
      " 'text_clean': 'british coachbuilde business base trading name major part '\n",
      "               'output sub contract motor_vehicle manufacturer business close'}\n"
     ]
    }
   ],
   "source": [
    "pprint(dataset['train'][0])"
   ]
  },
  {
   "cell_type": "code",
   "execution_count": 70,
   "metadata": {
    "ExecuteTime": {
     "start_time": "2023-04-08T14:27:31.914055Z",
     "end_time": "2023-04-08T14:27:32.124773Z"
    }
   },
   "outputs": [
    {
     "data": {
      "text/plain": "Saving the dataset (0/1 shards):   0%|          | 0/560000 [00:00<?, ? examples/s]",
      "application/vnd.jupyter.widget-view+json": {
       "version_major": 2,
       "version_minor": 0,
       "model_id": "8f9f76ebe277426ea3b8ef078aa3312f"
      }
     },
     "metadata": {},
     "output_type": "display_data"
    },
    {
     "data": {
      "text/plain": "Saving the dataset (0/1 shards):   0%|          | 0/7000 [00:00<?, ? examples/s]",
      "application/vnd.jupyter.widget-view+json": {
       "version_major": 2,
       "version_minor": 0,
       "model_id": "6973173dad4640d0b130aeb2dd24f2c0"
      }
     },
     "metadata": {},
     "output_type": "display_data"
    }
   ],
   "source": [
    "path = SAVE_PATH_DATASET.joinpath(f'{dataset_name}_processed')\n",
    "dataset.save_to_disk(path)"
   ]
  },
  {
   "cell_type": "code",
   "execution_count": 70,
   "metadata": {
    "ExecuteTime": {
     "start_time": "2023-04-08T12:36:53.987959Z",
     "end_time": "2023-04-08T14:27:32.125810Z"
    }
   },
   "outputs": [],
   "source": []
  }
 ],
 "metadata": {
  "kernelspec": {
   "display_name": "Python 3 (ipykernel)",
   "language": "python",
   "name": "python3"
  },
  "language_info": {
   "codemirror_mode": {
    "name": "ipython",
    "version": 3
   },
   "file_extension": ".py",
   "mimetype": "text/x-python",
   "name": "python",
   "nbconvert_exporter": "python",
   "pygments_lexer": "ipython3",
   "version": "3.9.16"
  },
  "vscode": {
   "interpreter": {
    "hash": "0847cda728ef3e0f335e7e94b5a043d9a0fda1c620343fc6302f7013063303dc"
   }
  }
 },
 "nbformat": 4,
 "nbformat_minor": 1
}
