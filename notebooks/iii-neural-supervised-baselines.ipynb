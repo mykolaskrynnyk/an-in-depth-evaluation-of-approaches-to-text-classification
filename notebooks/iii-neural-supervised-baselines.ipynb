{
 "cells": [
  {
   "cell_type": "markdown",
   "source": [
    "# An In-depth Evaluation of Approaches to Text Classification (IDEATC)\n",
    "\n",
    "## III. Neural Supervised Baselines\n",
    "\n",
    "_This notebook is used to establish baselines using neural supervised learning approaches to text classification, including fastText, Convolutional Neural Network (CNN) and DeBERTa Transformer._"
   ],
   "metadata": {
    "collapsed": false
   }
  },
  {
   "cell_type": "markdown",
   "source": [
    "### Libraries"
   ],
   "metadata": {
    "collapsed": false
   }
  },
  {
   "cell_type": "code",
   "execution_count": null,
   "outputs": [],
   "source": [
    "# standard library\n",
    "import os\n",
    "from pathlib import Path\n",
    "\n",
    "# data wrangling\n",
    "import datasets\n",
    "\n",
    "# deep learning\n",
    "from transformers import AutoTokenizer\n",
    "\n",
    "# local packages\n",
    "import src\n",
    "from src.experiments import supervised\n",
    "from src.frameworks import fasttext, pytorch, transformers\n",
    "\n",
    "LOAD_PATH_DATASET = Path(os.pardir, 'data', 'processed')\n",
    "SAVE_PATH_RESULTS = Path(os.pardir, 'data', 'results')"
   ],
   "metadata": {
    "collapsed": false,
    "ExecuteTime": {
     "start_time": "2023-04-29T13:27:56.865014Z",
     "end_time": "2023-04-29T13:27:59.238494Z"
    }
   }
  },
  {
   "cell_type": "markdown",
   "source": [
    "## I. FastText"
   ],
   "metadata": {
    "collapsed": false
   }
  },
  {
   "cell_type": "code",
   "execution_count": null,
   "outputs": [],
   "source": [
    "for path in LOAD_PATH_DATASET.glob('*processed*'):\n",
    "    dataset = datasets.load_from_disk(path)\n",
    "    sample_sizes = src.experiments.utils.get_sample_sizes(dataset['train'])\n",
    "    supervised.run_experiment(\n",
    "        dataset_dict=dataset,\n",
    "        feature='text',\n",
    "        get_model=fasttext.models.get_fasttext,\n",
    "        search_params={},  # auto-tuned internally\n",
    "        optimisation=fasttext.optimisation,\n",
    "        sample_sizes=sample_sizes,\n",
    "        progress_bar=True,\n",
    "        experiment_id='fasttext',\n",
    "        save_path=SAVE_PATH_RESULTS.joinpath(path.name),\n",
    "    )\n",
    "print('Done!')"
   ],
   "metadata": {
    "collapsed": false,
    "ExecuteTime": {
     "start_time": "2023-04-21T01:55:10.824239Z",
     "end_time": "2023-04-21T08:08:49.187509Z"
    }
   }
  },
  {
   "cell_type": "markdown",
   "source": [
    "## II.  Convolutional Neural Network (CNN)"
   ],
   "metadata": {
    "collapsed": false
   }
  },
  {
   "cell_type": "code",
   "execution_count": null,
   "outputs": [],
   "source": [
    "tokeniser = AutoTokenizer.from_pretrained('albert-base-v2')\n",
    "tokeniser.vocab_size"
   ],
   "metadata": {
    "collapsed": false,
    "ExecuteTime": {
     "start_time": "2023-04-27T22:24:36.951835Z",
     "end_time": "2023-04-27T22:24:37.938825Z"
    }
   }
  },
  {
   "cell_type": "code",
   "execution_count": null,
   "outputs": [],
   "source": [
    "def tokenise(example: dict) -> dict:\n",
    "    return tokeniser(example['text'], padding=False, truncation=True, max_length=1024)"
   ],
   "metadata": {
    "collapsed": false,
    "ExecuteTime": {
     "start_time": "2023-04-27T22:24:37.939484Z",
     "end_time": "2023-04-27T22:24:37.941395Z"
    }
   }
  },
  {
   "cell_type": "code",
   "execution_count": null,
   "outputs": [],
   "source": [
    "for path in LOAD_PATH_DATASET.glob('*processed*'):\n",
    "    dataset = datasets.load_from_disk(path)\n",
    "    sample_sizes = src.experiments.utils.get_sample_sizes(dataset['train'])\n",
    "    dataset = dataset.map(tokenise).with_format('torch')\n",
    "    get_model = lambda: pytorch.models.get_cnn(\n",
    "        num_class=len(dataset['train'].features['label'].names),\n",
    "        vocab_size=tokeniser.vocab_size,\n",
    "    )\n",
    "    params = {\n",
    "        'epochs': 50,  # max number of epochs\n",
    "        'patience': 3,  # for early stopping\n",
    "        'batch_size': 32,\n",
    "    }\n",
    "    supervised.run_experiment(\n",
    "        dataset_dict=dataset,\n",
    "        feature='input_ids',\n",
    "        get_model=get_model,\n",
    "        search_params=params,\n",
    "        optimisation=pytorch.optimisation,\n",
    "        sample_sizes=sample_sizes,\n",
    "        progress_bar=True,\n",
    "        experiment_id='cnn',\n",
    "        save_path=SAVE_PATH_RESULTS.joinpath(path.name),\n",
    "    )"
   ],
   "metadata": {
    "collapsed": false,
    "ExecuteTime": {
     "start_time": "2023-04-23T22:40:47.916381Z",
     "end_time": "2023-04-23T22:40:47.923130Z"
    }
   }
  },
  {
   "cell_type": "markdown",
   "source": [
    "## III. Transformer (DeBERTa)"
   ],
   "metadata": {
    "collapsed": false
   }
  },
  {
   "cell_type": "code",
   "execution_count": null,
   "outputs": [],
   "source": [
    "for path in LOAD_PATH_DATASET.glob('*processed*'):\n",
    "    dataset = datasets.load_from_disk(path)\n",
    "    sample_sizes = src.experiments.utils.get_sample_sizes(dataset['train'])\n",
    "    sample_sizes = [min(2**15, sample_sizes[-1])]\n",
    "    get_model = lambda: transformers.models.get_transformer(\n",
    "        model_name='microsoft/deberta-v3-small',\n",
    "        num_class=len(dataset['train'].features['label'].names),\n",
    "    )\n",
    "    # logging.info(f'START PROCESSING {path.name}')\n",
    "    supervised.run_experiment(\n",
    "        dataset_dict=dataset,\n",
    "        feature='text',\n",
    "        get_model=get_model,\n",
    "        search_params={'batch_size': 16},  # uses early stopping internally\n",
    "        optimisation=transformers.optimisation,\n",
    "        sample_sizes=sample_sizes,\n",
    "        max_runs=1,\n",
    "        progress_bar=True,\n",
    "        experiment_id='deberta_v3_small_finetuned',\n",
    "        save_path=SAVE_PATH_RESULTS.joinpath(path.name),\n",
    "    )\n",
    "    # logging.info(f'FINISH PROCESSING {path.name}')\n",
    "print('Done!')"
   ],
   "metadata": {
    "collapsed": false
   }
  },
  {
   "cell_type": "markdown",
   "source": [
    "## VI. Sanity Check"
   ],
   "metadata": {
    "collapsed": false
   }
  },
  {
   "cell_type": "code",
   "execution_count": null,
   "outputs": [],
   "source": [
    "src.experiments.utils.show_best_results(SAVE_PATH_RESULTS)"
   ],
   "metadata": {
    "collapsed": false,
    "ExecuteTime": {
     "start_time": "2023-04-29T13:43:35.676210Z",
     "end_time": "2023-04-29T13:43:35.876089Z"
    }
   }
  },
  {
   "cell_type": "code",
   "execution_count": null,
   "outputs": [],
   "source": [],
   "metadata": {
    "collapsed": false
   }
  },
  {
   "cell_type": "code",
   "execution_count": null,
   "outputs": [],
   "source": [],
   "metadata": {
    "collapsed": false
   }
  }
 ],
 "metadata": {
  "kernelspec": {
   "display_name": "nlp",
   "language": "python",
   "name": "python3"
  },
  "language_info": {
   "codemirror_mode": {
    "name": "ipython",
    "version": 3
   },
   "file_extension": ".py",
   "mimetype": "text/x-python",
   "name": "python",
   "nbconvert_exporter": "python",
   "pygments_lexer": "ipython3",
   "version": "3.9.16"
  },
  "vscode": {
   "interpreter": {
    "hash": "0847cda728ef3e0f335e7e94b5a043d9a0fda1c620343fc6302f7013063303dc"
   }
  }
 },
 "nbformat": 4,
 "nbformat_minor": 0
}
